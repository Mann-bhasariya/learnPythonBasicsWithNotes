{
 "cells": [
  {
   "cell_type": "code",
   "execution_count": null,
   "id": "6101867f-96ba-4e4d-a327-43940b254f8e",
   "metadata": {},
   "outputs": [],
   "source": [
    "What is Python?\n",
    " Python is simple & easy\n",
    " Free & Open Source\n",
    " High Level Language\n",
    " Developed by Guido van Rossum\n",
    " Portable\n",
    " Ap"
   ]
  },
  {
   "cell_type": "markdown",
   "id": "1098a568-807e-4962-956e-d9e054cfd77c",
   "metadata": {},
   "source": [
    "# Our first program"
   ]
  },
  {
   "cell_type": "code",
   "execution_count": 1,
   "id": "1d95cba2-e336-4757-ad95-a83baee256c9",
   "metadata": {},
   "outputs": [
    {
     "name": "stdout",
     "output_type": "stream",
     "text": [
      "Hello World\n"
     ]
    }
   ],
   "source": [
    "print(\"Hello World\")"
   ]
  },
  {
   "cell_type": "code",
   "execution_count": 6,
   "id": "374fe535-601d-45f9-a988-4514297c379b",
   "metadata": {},
   "outputs": [
    {
     "name": "stdout",
     "output_type": "stream",
     "text": [
      "mann bhasariya\n",
      "jay bhasariya\n",
      "mamta bhasariya\n",
      "kamlesh bhasariya\n"
     ]
    }
   ],
   "source": [
    "# print name\n",
    "print(\"mann bhasariya\")\n",
    "print(\"jay bhasariya\")\n",
    "print(\"mamta bhasariya\")\n",
    "print(\"kamlesh bhasariya\")\n"
   ]
  },
  {
   "cell_type": "code",
   "execution_count": 3,
   "id": "3e567761-12b5-4196-9a9c-24a7255e32f2",
   "metadata": {},
   "outputs": [
    {
     "name": "stdout",
     "output_type": "stream",
     "text": [
      "mann : My age is age : 22\n"
     ]
    }
   ],
   "source": [
    "print(\"mann : My age is age : 22\")"
   ]
  },
  {
   "cell_type": "code",
   "execution_count": 4,
   "id": "e51bc3ab-a87f-41ab-bd24-17b667ea84d8",
   "metadata": {},
   "outputs": [
    {
     "name": "stdout",
     "output_type": "stream",
     "text": [
      "mann bhasariya\n"
     ]
    }
   ],
   "source": [
    "print(\"mann\",\"bhasariya\")"
   ]
  },
  {
   "cell_type": "markdown",
   "id": "3f35899d-43c8-4ad8-b820-0a2723cfc758",
   "metadata": {},
   "source": [
    "<h3>\\n</h3>"
   ]
  },
  {
   "cell_type": "code",
   "execution_count": 7,
   "id": "debffd50",
   "metadata": {},
   "outputs": [
    {
     "name": "stdout",
     "output_type": "stream",
     "text": [
      "mann\n",
      "bhasariya\n"
     ]
    }
   ],
   "source": [
    "print(\"mann\"\"\\n\"\"bhasariya\")"
   ]
  },
  {
   "cell_type": "code",
   "execution_count": 11,
   "id": "5bdc86b8",
   "metadata": {},
   "outputs": [
    {
     "name": "stdout",
     "output_type": "stream",
     "text": [
      "jay\n",
      "bhasariya\n"
     ]
    }
   ],
   "source": [
    "print(\"jay\"\"\\n\"\"bhasariya\")"
   ]
  },
  {
   "cell_type": "markdown",
   "id": "112bc693-4764-405c-8322-c464debe3b8d",
   "metadata": {},
   "source": [
    "<h3>print Numbers</h3>"
   ]
  },
  {
   "cell_type": "code",
   "execution_count": 15,
   "id": "6ec79a15-53f6-41f0-9605-145eed4b090c",
   "metadata": {},
   "outputs": [
    {
     "name": "stdout",
     "output_type": "stream",
     "text": [
      "22\n",
      "12\n",
      "10\n",
      "22\n"
     ]
    }
   ],
   "source": [
    "print(22)\n",
    "#----------\n",
    "print(12)\n",
    "print(10)\n",
    "#--------\n",
    "print(12+10)\n"
   ]
  },
  {
   "cell_type": "code",
   "execution_count": null,
   "id": "5b4e173a-5f2d-4f06-8acb-08f8ee4353b8",
   "metadata": {},
   "outputs": [],
   "source": [
    "print(10)\n"
   ]
  },
  {
   "cell_type": "code",
   "execution_count": null,
   "id": "8846b928-ec13-45fb-a317-be9f6d0ca156",
   "metadata": {},
   "outputs": [],
   "source": [
    "# python character set"
   ]
  },
  {
   "cell_type": "code",
   "execution_count": null,
   "id": "31ad79d2-9166-4128-9716-31f123f1bea2",
   "metadata": {},
   "outputs": [],
   "source": [
    "Python Character Set\n",
    " Letters – A to Z, a to z\n",
    " Digits – 0 to 9\n",
    " Special Symbols - + - * / etc.\n",
    " Whitespaces – Blank Space, tab, carriage return, newline, formfeed\n",
    " Other characters – Python can process all ASCII and Unicode characters as part of data or literals"
   ]
  },
  {
   "cell_type": "markdown",
   "id": "52401075-b503-404b-a36b-449705ae8790",
   "metadata": {},
   "source": [
    "# Variables"
   ]
  },
  {
   "cell_type": "code",
   "execution_count": null,
   "id": "6cd13014-c54e-46b5-a741-1c701c2e44bd",
   "metadata": {},
   "outputs": [],
   "source": [
    "## A variable is a name given to a memory location in a program."
   ]
  },
  {
   "cell_type": "code",
   "execution_count": 12,
   "id": "d4797ae9-4a66-4195-98bf-d0b734d53ed9",
   "metadata": {},
   "outputs": [
    {
     "name": "stdout",
     "output_type": "stream",
     "text": [
      "Jay shree ram\n",
      "name is :  mann\n",
      "age is :  22\n",
      "25.99\n"
     ]
    }
   ],
   "source": [
    "#Memory\n",
    "\n",
    "name = \"Jay shree ram\"  #String\n",
    "name1 = \"mann\"          #String      #name1 <-- variables name   ,,  # mann <-- variable value\n",
    "age = 22                 #integer #int\n",
    "price = 25.99           #float\n",
    "\n",
    "print(name)\n",
    "print(\"name is : \",name1)\n",
    "print(\"age is : \",age)\n",
    "print(price)\n"
   ]
  },
  {
   "cell_type": "code",
   "execution_count": 13,
   "id": "b05772b2-1303-4896-8532-6676fd071485",
   "metadata": {},
   "outputs": [
    {
     "name": "stdout",
     "output_type": "stream",
     "text": [
      "22\n"
     ]
    }
   ],
   "source": [
    "#Ex\n",
    "age = 22            #age <-- variables name   ,,  #22 <-- variable value\n",
    "age2 = age\n",
    "\n",
    "print(age)"
   ]
  },
  {
   "cell_type": "markdown",
   "id": "9aa2f8cc-7952-43e8-81e2-a80eb2e9694c",
   "metadata": {},
   "source": [
    "<h3>Rules for Identifiers</h3>"
   ]
  },
  {
   "cell_type": "code",
   "execution_count": null,
   "id": "7e809d44-7394-4e87-a2e0-a8aa606b4254",
   "metadata": {},
   "outputs": [],
   "source": [
    "#* Rules for Naming an Identifier**\n",
    "\n",
    "#* Identifiers cannot be a keyword.\n",
    "#* Identifiers are case-sensitive.\n",
    "#* It can have a sequence of letters and digits. ...\n",
    "#* It's a convention to start an identifier with a letter rather _ .\n",
    "#* Whitespaces are not allowed.\n",
    "#* We cannot use special symbols like !, @, #, $, and so on.\n",
    "# Idenrifier can be of any lenght.\n"
   ]
  },
  {
   "cell_type": "code",
   "execution_count": null,
   "id": "b47df6de-6ac2-439b-9c5a-662c5b2cfd9d",
   "metadata": {},
   "outputs": [],
   "source": [
    "In Python, identifiers are names used to identify variables, functions, classes, modules, or any other object. They have to follow certain rules:\n",
    "\n",
    "Valid Characters: Identifiers can contain letters (both uppercase and lowercase), digits, and underscores.\n",
    "\n",
    "Must start with a letter or underscore: They cannot start with a digit.\n",
    "\n",
    "Case-sensitive: Python is case-sensitive, meaning var, Var, and VAR are all different identifiers.\n",
    "\n",
    "Reserved Words: You cannot use reserved words as identifiers. For example, you can't name your variable for or if, as these are reserved for language syntax.\n",
    "\n",
    "Here's an example demonstrating valid and invalid identifiers:"
   ]
  },
  {
   "cell_type": "markdown",
   "id": "05c09ecc-cf30-4117-89ca-0f5775e988f2",
   "metadata": {},
   "source": [
    "# Valid identifiers"
   ]
  },
  {
   "cell_type": "code",
   "execution_count": null,
   "id": "88ef95c5-5cca-4e04-a960-863ed59585ea",
   "metadata": {},
   "outputs": [],
   "source": [
    "# Valid identifiers\n",
    "\n",
    "variable_name = 42\n",
    "myVar = \"hello\"\n",
    "_underscore_variable = [1, 2, 3]"
   ]
  },
  {
   "cell_type": "markdown",
   "id": "cd2f533a-1c81-49f5-83e1-6ab25527d76e",
   "metadata": {},
   "source": [
    "# Invalid identifiers"
   ]
  },
  {
   "cell_type": "code",
   "execution_count": null,
   "id": "dbee880c-be9e-400e-8b0f-e549095e5e89",
   "metadata": {},
   "outputs": [],
   "source": [
    "# Invalid identifiers\n",
    "\n",
    "3variable = 10  # Can't start with a digit\n",
    "my-variable = 5  # Hyphens are not allowed\n",
    "for = \"loop\"  # Can't use reserved words\n"
   ]
  },
  {
   "cell_type": "markdown",
   "id": "f4853548-e509-4953-8513-3b3b6fc8e61d",
   "metadata": {},
   "source": [
    "<h3>Type of Variable</h3>"
   ]
  },
  {
   "cell_type": "code",
   "execution_count": 14,
   "id": "c6022c59-7e08-40ff-800c-6e0ea1e0ebda",
   "metadata": {},
   "outputs": [
    {
     "name": "stdout",
     "output_type": "stream",
     "text": [
      "<class 'str'>\n",
      "<class 'int'>\n",
      "<class 'float'>\n",
      "<class 'str'>\n"
     ]
    }
   ],
   "source": [
    "name1 = \"mann\"         \n",
    "age = 22                \n",
    "price = 25.99 \n",
    "car = 'neno'\n",
    "\n",
    "print(type(name))\n",
    "print(type(age))\n",
    "print(type(price))\n",
    "print(type(car))\n",
    "\n",
    "\n"
   ]
  },
  {
   "cell_type": "markdown",
   "id": "8c2948fd-a5a2-49c5-ad6d-33a93e976e48",
   "metadata": {},
   "source": [
    "# Data Types"
   ]
  },
  {
   "cell_type": "markdown",
   "id": "85081a04-82b5-4100-8366-1fbfc54ae919",
   "metadata": {},
   "source": [
    "<h2>1.Integers </h2> #+ve, -ve, 0 "
   ]
  },
  {
   "cell_type": "code",
   "execution_count": 16,
   "id": "28af34cd-ec38-460d-96e4-937458b7529a",
   "metadata": {},
   "outputs": [
    {
     "name": "stdout",
     "output_type": "stream",
     "text": [
      "22\n",
      "-22\n",
      "0\n"
     ]
    }
   ],
   "source": [
    "age1  = 22  # (+)\n",
    "age2  = -22  # (-)\n",
    "age3  = 0  # (0)\n",
    "\n",
    "print(age1)\n",
    "print(age2)\n",
    "print(age3)\n"
   ]
  },
  {
   "cell_type": "markdown",
   "id": "da7e1f5d-2713-4fcf-ba52-500ff6ea2695",
   "metadata": {},
   "source": [
    "<h2>2.String </h2>   #\"String\",  'String'  , \"\"\"String\"\"\""
   ]
  },
  {
   "cell_type": "code",
   "execution_count": 17,
   "id": "3f5567c2-d79b-4f53-a6c6-8c0b3f3838e3",
   "metadata": {},
   "outputs": [
    {
     "name": "stdout",
     "output_type": "stream",
     "text": [
      "mann\n",
      "mann\n",
      "mann\n"
     ]
    }
   ],
   "source": [
    "String1 = \"mann\"\n",
    "String2 = 'mann'\n",
    "String3 = \"\"\"mann\"\"\"\n",
    "\n",
    "print(String1)\n",
    "print(String2)\n",
    "print(String3)\n",
    "\n",
    "\n",
    " "
   ]
  },
  {
   "cell_type": "markdown",
   "id": "311463e8-1d29-4bdc-ab6d-b5055c87972b",
   "metadata": {},
   "source": [
    "<h2>Float</h2>"
   ]
  },
  {
   "cell_type": "code",
   "execution_count": 18,
   "id": "a84d1013-8744-477b-9a82-cda0920abee9",
   "metadata": {},
   "outputs": [
    {
     "name": "stdout",
     "output_type": "stream",
     "text": [
      "3.91\n",
      "2.5\n",
      "9.0\n"
     ]
    }
   ],
   "source": [
    "price1 = 3.91\n",
    "price2 = 2.5\n",
    "price3 = 9.0\n",
    "\n",
    "print(price1)\n",
    "print(price2)\n",
    "print(price3)"
   ]
  },
  {
   "cell_type": "markdown",
   "id": "695e8811-278d-43ea-82e6-8bbe7bc4c9e3",
   "metadata": {},
   "source": [
    "<h2>4.Boolean</h2>\n"
   ]
  },
  {
   "cell_type": "markdown",
   "id": "795590e6-89b9-400e-a6db-35abe4a510ce",
   "metadata": {},
   "source": [
    "<h2>True</h2>      \n",
    "\n",
    "<h2>False</h2>"
   ]
  },
  {
   "cell_type": "code",
   "execution_count": 22,
   "id": "cb0705f2-49ff-4bf5-80e1-87882fdfbad3",
   "metadata": {},
   "outputs": [
    {
     "name": "stdout",
     "output_type": "stream",
     "text": [
      "<class 'bool'>\n",
      "<class 'bool'>\n"
     ]
    }
   ],
   "source": [
    "age = 22\n",
    "old = False\n",
    "yung = True\n",
    "\n",
    "print(type(old))\n",
    "print(type(yung))\n"
   ]
  },
  {
   "cell_type": "markdown",
   "id": "5dc0d78d-baae-48f7-ac30-74f8c7c05b4a",
   "metadata": {},
   "source": [
    "<h2>5.None</h2>"
   ]
  },
  {
   "cell_type": "code",
   "execution_count": 23,
   "id": "76dd4e01-a5e7-40af-afd1-18afce8817cd",
   "metadata": {},
   "outputs": [
    {
     "name": "stdout",
     "output_type": "stream",
     "text": [
      "None\n"
     ]
    }
   ],
   "source": [
    "a = None\n",
    "\n",
    "print(a)"
   ]
  },
  {
   "cell_type": "markdown",
   "id": "a3c95734-9518-49b4-8527-b59f2a7817a4",
   "metadata": {},
   "source": [
    "# eywords"
   ]
  },
  {
   "cell_type": "markdown",
   "id": "10670362-c896-4347-a514-37b53ce70618",
   "metadata": {},
   "source": [
    "<h3>Keywords are reserved words in python.</h3>\n",
    " \n",
    " <h3>alse should be uppercase</h3>"
   ]
  },
  {
   "cell_type": "code",
   "execution_count": null,
   "id": "81f05913-1dcd-44a4-95a1-579475db1a34",
   "metadata": {},
   "outputs": [],
   "source": [
    "Some common Python keywords include \n",
    "if,      else,    for,     while,         def,      class,      True, \n",
    "False,   None,    and,     or,            not,      import,     from,\n",
    "as,      try,     except,  finally,       global,   nonlocal,\n",
    "return,  yield,   break,   and continue, \n",
    "\n",
    "among others."
   ]
  },
  {
   "cell_type": "markdown",
   "id": "584f717f-2407-4f22-9b28-d30811e95485",
   "metadata": {},
   "source": [
    "# Python is case-sensitive"
   ]
  },
  {
   "cell_type": "code",
   "execution_count": 25,
   "id": "050db2e6-6641-447f-bfca-62728775e541",
   "metadata": {},
   "outputs": [
    {
     "name": "stdout",
     "output_type": "stream",
     "text": [
      "5\n",
      "9\n",
      "7\n"
     ]
    }
   ],
   "source": [
    "Age = 7\n",
    "age = 5\n",
    "AGE = 9\n",
    "\n",
    "print(age)\n",
    "print(AGE)\n",
    "print(Age)"
   ]
  },
  {
   "cell_type": "markdown",
   "id": "5a8d9795-8466-441d-8048-69e72eb4c71c",
   "metadata": {},
   "source": [
    "<h3>Print Sum of num</h3>"
   ]
  },
  {
   "cell_type": "code",
   "execution_count": 45,
   "id": "d7f0ff7e-859b-4e79-888a-fe8016eab23b",
   "metadata": {},
   "outputs": [
    {
     "name": "stdin",
     "output_type": "stream",
     "text": [
      "a :  3\n",
      "b :  4\n"
     ]
    },
    {
     "name": "stdout",
     "output_type": "stream",
     "text": [
      "sum :  7\n"
     ]
    }
   ],
   "source": [
    "#addtions\n",
    "a = int(input(\"a : \" ))\n",
    "b = int(input(\"b : \"))\n",
    " \n",
    "sum = a + b\n",
    "\n",
    "print(\"sum : \", sum)\n"
   ]
  },
  {
   "cell_type": "code",
   "execution_count": 46,
   "id": "a7681288-e9df-4065-b0f7-309eee665d8e",
   "metadata": {},
   "outputs": [
    {
     "name": "stdin",
     "output_type": "stream",
     "text": [
      "a :  4\n",
      "b :  2\n"
     ]
    },
    {
     "name": "stdout",
     "output_type": "stream",
     "text": [
      "sum :  2\n"
     ]
    }
   ],
   "source": [
    "# Subtriction\n",
    "a = int(input(\"a : \" ))\n",
    "b = int(input(\"b : \"))\n",
    " \n",
    "sum = a - b\n",
    "\n",
    "print(\"sum : \", sum)\n"
   ]
  },
  {
   "cell_type": "markdown",
   "id": "33594629-d088-4283-9370-b8515d1e8f79",
   "metadata": {},
   "source": [
    "# Type of tokens"
   ]
  },
  {
   "cell_type": "markdown",
   "id": "142ef307-39b0-423a-a3dd-cec2b1a5be96",
   "metadata": {},
   "source": [
    "<h2>Punctuators</h2>\n",
    "\n",
    "<h4>Punctuators are symbols to organize sentence structurr in programing</h4>"
   ]
  },
  {
   "cell_type": "markdown",
   "id": "5868ab9a-dfde-4a4e-b4cb-b8fc88f94d49",
   "metadata": {},
   "source": [
    "# (), {}, [] , # , etc."
   ]
  },
  {
   "cell_type": "markdown",
   "id": "27103aac-4dc9-45f4-bf7e-ecca58519888",
   "metadata": {},
   "source": [
    "<h3>python is Type language</h3>\n",
    "\n",
    "# [python is Implicit laguage ]\n",
    "<h4>{variable ka tipe nahi bata na padata he}</h4>"
   ]
  },
  {
   "cell_type": "markdown",
   "id": "c9fbe209-8865-4b1a-9043-f77184426e02",
   "metadata": {},
   "source": [
    "<h3>Note : java is explicit language</h3 color = red;>\n",
    "\n",
    "<h4>Variable ka type bata na padata he </h4>"
   ]
  },
  {
   "cell_type": "code",
   "execution_count": null,
   "id": "6ef227ef-3480-48da-a68f-e76e5cc75dca",
   "metadata": {},
   "outputs": [],
   "source": []
  },
  {
   "cell_type": "markdown",
   "id": "05bc37a9-cfd4-45c3-a29e-394e68831cd2",
   "metadata": {},
   "source": [
    "<h2>Expression Execution</h2>\n",
    "\n",
    "<h4>#1 String & Numeric Values can operate together with </h4>"
   ]
  },
  {
   "cell_type": "code",
   "execution_count": 48,
   "id": "5ae1d4cc-ba2c-4e26-855c-a9f70a4ed024",
   "metadata": {},
   "outputs": [
    {
     "name": "stdout",
     "output_type": "stream",
     "text": [
      "@@@@@@\n"
     ]
    }
   ],
   "source": [
    "A,B = 2,3\n",
    "text = \"@\"\n",
    "print(2*text*3)"
   ]
  },
  {
   "cell_type": "markdown",
   "id": "6b6614b2-7fad-49b7-a829-2c8ea5f5ed26",
   "metadata": {},
   "source": [
    "<h4>#2 String & String can operate With +        ,,concation</h4>"
   ]
  },
  {
   "cell_type": "code",
   "execution_count": 59,
   "id": "f110fe56-4add-4814-ab63-29edca92c008",
   "metadata": {},
   "outputs": [
    {
     "name": "stdout",
     "output_type": "stream",
     "text": [
      "2@2@2@\n"
     ]
    }
   ],
   "source": [
    "A,B = \"2\" ,3\n",
    "Text = \"@\"\n",
    "print((A+Text)*B)"
   ]
  },
  {
   "cell_type": "markdown",
   "id": "1d13df83-60f1-4411-934e-2ac07639a623",
   "metadata": {},
   "source": [
    "<h4>#3 Numeric values can operata with all arithmetic operators</h4>"
   ]
  },
  {
   "cell_type": "code",
   "execution_count": 1,
   "id": "8fb8b27f-b117-4721-93ff-4e3e3d6d54cd",
   "metadata": {},
   "outputs": [
    {
     "name": "stdout",
     "output_type": "stream",
     "text": [
      "14\n"
     ]
    }
   ],
   "source": [
    "A,B = 2,3\n",
    "C= 4\n",
    "print(A+B*C)"
   ]
  },
  {
   "cell_type": "code",
   "execution_count": 3,
   "id": "17f351e5-e78c-4d05-a647-71b369768bf2",
   "metadata": {},
   "outputs": [],
   "source": [
    "#Note --> + Add. or * mul. ho to pahale * mul. kara ge usa ka bad + add. karaga"
   ]
  },
  {
   "cell_type": "markdown",
   "id": "d0604b58-d75a-4e96-ab00-4b80559dbcb9",
   "metadata": {},
   "source": [
    "<h4>#4 Arithmetic Expression With integer and float will result in float</h4>"
   ]
  },
  {
   "cell_type": "code",
   "execution_count": 2,
   "id": "2914a4a2-475d-40b2-841c-bc4c5700a120",
   "metadata": {},
   "outputs": [
    {
     "name": "stdout",
     "output_type": "stream",
     "text": [
      "50.0\n"
     ]
    }
   ],
   "source": [
    "A,B = 10,5.0\n",
    "C = A*B\n",
    "print(C)"
   ]
  },
  {
   "cell_type": "markdown",
   "id": "22550f23-e82a-4311-8452-f823d24f543f",
   "metadata": {},
   "source": [
    "<h4>#5 Result of divison operator with two integer will be float</h4>"
   ]
  },
  {
   "cell_type": "code",
   "execution_count": 4,
   "id": "ce958286-954c-4aba-9cd3-e00387e19a34",
   "metadata": {},
   "outputs": [
    {
     "name": "stdout",
     "output_type": "stream",
     "text": [
      "0.5\n"
     ]
    }
   ],
   "source": [
    "A,B = 1,2\n",
    "C = A/B\n",
    "print(C)"
   ]
  },
  {
   "cell_type": "markdown",
   "id": "b3caa1bd-3e0c-46a4-8c6e-3e20e9651d13",
   "metadata": {},
   "source": [
    "<h4>#6 integer division With float and int will give int displayed as float</h4>"
   ]
  },
  {
   "cell_type": "code",
   "execution_count": 10,
   "id": "65c72e3f-c125-49a9-9da1-4efef520acd0",
   "metadata": {},
   "outputs": [
    {
     "name": "stdout",
     "output_type": "stream",
     "text": [
      "0.0\n",
      "0.5\n"
     ]
    }
   ],
   "source": [
    "A,B = 1.5,3\n",
    "C = A//B\n",
    "print(C)\n",
    "print(A/B)"
   ]
  },
  {
   "cell_type": "markdown",
   "id": "8602f6a7-fe22-4c8a-9aac-87e9279315e1",
   "metadata": {},
   "source": [
    "<h4>#7 floor give closest integer, which is lesser than or equal to the float value Result of (A// B) is same as float as float (A// B)</h4>"
   ]
  },
  {
   "cell_type": "code",
   "execution_count": 3,
   "id": "73915157-c39b-4563-8650-1af78616954d",
   "metadata": {},
   "outputs": [
    {
     "name": "stdout",
     "output_type": "stream",
     "text": [
      "2\n"
     ]
    }
   ],
   "source": [
    "A,B = 12,5           # 12 // 5 => (12/5) => 2.4 --> 2  ans\n",
    "C = A // B\n",
    "print(C)"
   ]
  },
  {
   "cell_type": "code",
   "execution_count": 5,
   "id": "a4e1cf61-7280-410c-96c7-d63ad4ba9f57",
   "metadata": {},
   "outputs": [
    {
     "name": "stdout",
     "output_type": "stream",
     "text": [
      "-3\n"
     ]
    }
   ],
   "source": [
    "A,B = -12,5             # -12 // 5 => (-12/5) => -2.4 --> 3  ans\n",
    "C = A // B\n",
    "print(C)"
   ]
  },
  {
   "cell_type": "code",
   "execution_count": 6,
   "id": "34f1444f-fb51-41ce-9145-47c6129a94d0",
   "metadata": {},
   "outputs": [
    {
     "name": "stdout",
     "output_type": "stream",
     "text": [
      "2\n"
     ]
    }
   ],
   "source": [
    "A,B = -12,-5             # -12 // -5 => (-12/-5) => 2.4 --> 2  ans\n",
    "C = A // B\n",
    "print(C)"
   ]
  },
  {
   "cell_type": "code",
   "execution_count": null,
   "id": "1a83f784-8cb4-4472-ae04-d68e0f13ca06",
   "metadata": {},
   "outputs": [],
   "source": [
    "#Note --> 0.1 => 0   , 5.2 => 5      , 7.99 => 7     , 11.2 => 11\n",
    "          15.2 => 15 , -5.2 => -6    , 5.0 => 5      , 2 => 2\n",
    "\n",
    "           floor(numbers) ---> slosest"
   ]
  },
  {
   "cell_type": "markdown",
   "id": "9eea983a-0c20-4218-9878-34e4a4dca055",
   "metadata": {},
   "source": [
    "<h4>Remaimder is negative when denominator is negative</h4>"
   ]
  },
  {
   "cell_type": "code",
   "execution_count": 7,
   "id": "33c02a19-cfd8-4f55-8db9-d08565e807c2",
   "metadata": {},
   "outputs": [
    {
     "name": "stdout",
     "output_type": "stream",
     "text": [
      "1\n"
     ]
    }
   ],
   "source": [
    "A,B = -5,2    #A  = -5  B = 2\n",
    "C = A % B     # (-5/2)  ==> 1\n",
    "print(C)"
   ]
  },
  {
   "cell_type": "code",
   "execution_count": null,
   "id": "f03c4b67-e07f-454a-b428-81986791632a",
   "metadata": {},
   "outputs": [],
   "source": [
    "A,B = -5,2    #A =5 , B = 2\n",
    "C = A % B     # (5/2)  ==> 1\n",
    "print(C)"
   ]
  },
  {
   "cell_type": "code",
   "execution_count": null,
   "id": "2d324c9e-28fe-4e4a-9b51-11d849cfa0bf",
   "metadata": {},
   "outputs": [],
   "source": [
    "A,B = -5,2      #A =5 , B = -2\n",
    "C = A % B       # (5/2)  ==> -1\n",
    "print(C)"
   ]
  },
  {
   "cell_type": "code",
   "execution_count": null,
   "id": "2309862a-ded7-4a8b-b17b-c379490a6ba1",
   "metadata": {},
   "outputs": [],
   "source": [
    "# Note --> +     -       +       -\n",
    "#          +     -       -       +   \n",
    "#         -----  ----   ----    -----\n",
    "#          +      +      -ve     +"
   ]
  },
  {
   "cell_type": "markdown",
   "id": "d780c5c2-c340-4385-bc6d-54ffa04f3f2b",
   "metadata": {},
   "source": [
    "<h3># Comments in python</h3>"
   ]
  },
  {
   "cell_type": "code",
   "execution_count": 11,
   "id": "2af6fe59-8c71-465c-9b61-609fd292e922",
   "metadata": {},
   "outputs": [
    {
     "name": "stdout",
     "output_type": "stream",
     "text": [
      "Hello\n"
     ]
    },
    {
     "data": {
      "text/plain": [
       "' this is \\n    a multi-line\\n    comments'"
      ]
     },
     "execution_count": 11,
     "metadata": {},
     "output_type": "execute_result"
    }
   ],
   "source": [
    "# single line comments     ==> Ex --> print(\"Hello\")\n",
    "                                   # print(\"Hello\")\n",
    "print(\"Hello\")\n",
    "                                    \n",
    "\n",
    "\"\"\" this is \n",
    "    a multi-line\n",
    "    comments\"\"\""
   ]
  },
  {
   "cell_type": "markdown",
   "id": "fb90e401-3586-40ba-b408-b6c8f8e2fc48",
   "metadata": {},
   "source": [
    "## input in python"
   ]
  },
  {
   "cell_type": "markdown",
   "id": "e9ac081f-e197-4f1e-ae9b-f4a627b6b28e",
   "metadata": {},
   "source": [
    "#### input() statement is used to accept values (using keyboard) from user "
   ]
  },
  {
   "cell_type": "code",
   "execution_count": 19,
   "id": "453f8d94-163b-482d-9628-035c30f07d46",
   "metadata": {},
   "outputs": [
    {
     "name": "stdin",
     "output_type": "stream",
     "text": [
      "name  :  mann\n",
      "age   :  22\n",
      "price :  50000\n"
     ]
    },
    {
     "name": "stdout",
     "output_type": "stream",
     "text": [
      "my age is 22 year old & my work price :  50000.0\n"
     ]
    }
   ],
   "source": [
    "#String input\n",
    "name = input(\"name  : \")\n",
    "\n",
    "\n",
    "## int input\n",
    "age = int(input(\"age   : \"))                                    \n",
    "\n",
    "## float input\n",
    "price = float(input(\"price : \"))\n",
    "\n",
    "print(\"my age is\",age ,\"year old & my work price : \" ,price)"
   ]
  },
  {
   "cell_type": "code",
   "execution_count": 17,
   "id": "1ce0ec0f-4eb2-4f45-9492-17ad1daad169",
   "metadata": {},
   "outputs": [
    {
     "name": "stdin",
     "output_type": "stream",
     "text": [
      "name :  mann\n"
     ]
    },
    {
     "name": "stdout",
     "output_type": "stream",
     "text": [
      "mann\n"
     ]
    }
   ],
   "source": [
    "#taking input from user & printing it\n",
    "name = input(\"name : \")\n",
    "print(name)"
   ]
  },
  {
   "cell_type": "code",
   "execution_count": 18,
   "id": "6c8379b2-e3db-4ba8-b69f-713475a8b28e",
   "metadata": {},
   "outputs": [
    {
     "name": "stdin",
     "output_type": "stream",
     "text": [
      "age :  22\n"
     ]
    },
    {
     "name": "stdout",
     "output_type": "stream",
     "text": [
      "22\n"
     ]
    }
   ],
   "source": [
    "#taking input from user & printing it\n",
    "age = int(input(\"age : \"))\n",
    "print(age)"
   ]
  },
  {
   "cell_type": "markdown",
   "id": "56b3eda9-240f-417f-9822-cbfeb7ea00f4",
   "metadata": {},
   "source": [
    "### Practice Time\n",
    "\n",
    "##### State true or False"
   ]
  },
  {
   "cell_type": "code",
   "execution_count": null,
   "id": "e73e1b41-773d-43e9-bc80-70f8b95bfe74",
   "metadata": {},
   "outputs": [],
   "source": [
    "#1 /* is a Symbol in python for single line comment  \n",
    "|--> False\n",
    "\n",
    "#2 2ndName is an invalid identifier in python       \n",
    "--> True\n",
    "\n",
    "#3 **is a valid arthmetic operator in python        \n",
    "--> True\n",
    "\n",
    "#4 in is logical operator in python                 \n",
    "-->  False\n",
    "\n",
    "#5 Variable declaration in implicit in python        \n",
    "--> True"
   ]
  },
  {
   "cell_type": "markdown",
   "id": "30ad9ea5-300b-4750-a6dc-7227c993e899",
   "metadata": {},
   "source": [
    "### Practice Time\n",
    "##### 6) Consider the givenexpresstion ( not True and False ot True )\n",
    "##### which of the  following will be correct output if the  given expression is envalueted?\n",
    "##### (a)True\n",
    "##### (B)False\n",
    "##### (c)NONE\n",
    "##### (d)NULL \n"
   ]
  },
  {
   "cell_type": "code",
   "execution_count": 20,
   "id": "b752f5ca-bf9e-4d51-adf4-e817cfdae697",
   "metadata": {},
   "outputs": [],
   "source": [
    "# NOt operator False ho to true ka deta he or true ho to false \n",
    "# kar deta he \n",
    "#NOTE--> NOt   False --> True\n",
    "#              True  --> False\n",
    "\n",
    "\n",
    "#NOTE--> Operator  precidennce  ==> not > and > or"
   ]
  },
  {
   "cell_type": "markdown",
   "id": "7a6eda8e-9448-4591-b2c1-687935a7b079",
   "metadata": {},
   "source": [
    "## conditional Statements\n",
    "##### if-elif-else(SYNTAX)"
   ]
  },
  {
   "cell_type": "code",
   "execution_count": 1,
   "id": "4961a1dd-253f-4191-a57c-dc24b36ec8e0",
   "metadata": {},
   "outputs": [
    {
     "data": {
      "text/plain": [
       "'if(condition)\\n    Statement1\\nelif(condition)\\n    Statement2\\nelse:\\n    Statement2\\n'"
      ]
     },
     "execution_count": 1,
     "metadata": {},
     "output_type": "execute_result"
    }
   ],
   "source": [
    "\"\"\"if(condition)\n",
    "    Statement1\n",
    "elif(condition)\n",
    "    Statement2\n",
    "else:\n",
    "    Statement2\n",
    "\"\"\""
   ]
  },
  {
   "cell_type": "code",
   "execution_count": 6,
   "id": "a8d72aa7-858b-4ece-8712-7cfb613d9f0b",
   "metadata": {},
   "outputs": [
    {
     "name": "stdin",
     "output_type": "stream",
     "text": [
      "light :  red\n"
     ]
    },
    {
     "name": "stdout",
     "output_type": "stream",
     "text": [
      "STOP\n"
     ]
    }
   ],
   "source": [
    "# Traffic light code\n",
    "\n",
    "light = input(\"light : \")\n",
    "if(light == \"red\"):\n",
    "    print(\"STOP\")\n",
    "elif(light == \"yellow\"):\n",
    "    print(\"Look\")\n",
    "elif(light == \"green\"):\n",
    "    print(\"Go\")\n",
    "else:\n",
    "    print(\"Light is broken\")"
   ]
  },
  {
   "cell_type": "code",
   "execution_count": 11,
   "id": "5f025a8e-3baa-4510-97d2-14a3c4061647",
   "metadata": {},
   "outputs": [
    {
     "name": "stdin",
     "output_type": "stream",
     "text": [
      "marks :  30\n"
     ]
    },
    {
     "name": "stdout",
     "output_type": "stream",
     "text": [
      "Try next time bro\n"
     ]
    }
   ],
   "source": [
    "#Grades of Students\n",
    "marks = int(input(\"marks : \"))\n",
    "\n",
    "if(marks >=90 ):\n",
    "    print(\"A\")\n",
    "elif(marks >=80 and marks < 90):\n",
    "    print(\"B\")\n",
    "elif(marks >=70 and marks < 80):\n",
    "    print(\"C\")\n",
    "elif(marks >=40 and marks < 70):\n",
    "    print(\"D\")\n",
    "else:\n",
    "    print(\"Try next time bro\")"
   ]
  },
  {
   "cell_type": "code",
   "execution_count": 40,
   "id": "2c2d08ec-9902-4df2-bb1a-4560b4d8bf63",
   "metadata": {},
   "outputs": [
    {
     "name": "stdin",
     "output_type": "stream",
     "text": [
      "age :  16\n"
     ]
    },
    {
     "name": "stdout",
     "output_type": "stream",
     "text": [
      "cannot drive\n"
     ]
    }
   ],
   "source": [
    "age  = int(input(\"age : \"))\n",
    "if(age >= 18):\n",
    "    if(age >= 80):       #nesting\n",
    "        print(\"cannot drive\")\n",
    "    else:\n",
    "        print(\"can Drive\")\n",
    "else:\n",
    "    print(\"cannot drive\")"
   ]
  },
  {
   "cell_type": "markdown",
   "id": "0c7be3a6-e8df-479a-8afc-0746ebea1726",
   "metadata": {},
   "source": [
    "## Let's Practice\n",
    "### WAP to check it a number entered by the user is odd even"
   ]
  },
  {
   "cell_type": "code",
   "execution_count": 54,
   "id": "c83b3d79-7d34-411b-86fd-d1fc61f7b74f",
   "metadata": {},
   "outputs": [
    {
     "name": "stdin",
     "output_type": "stream",
     "text": [
      "Enter the number :  35\n"
     ]
    },
    {
     "name": "stdout",
     "output_type": "stream",
     "text": [
      "Odd number\n"
     ]
    }
   ],
   "source": [
    "num = int(input(\"Enter number : \"))\n",
    "if(num%2 == 0):\n",
    "    print(\"Even number\")\n",
    "else:\n",
    "    print(\"Odd number\")"
   ]
  },
  {
   "cell_type": "code",
   "execution_count": 59,
   "id": "02c08842-c0ac-47e8-9f7a-942df9b43b63",
   "metadata": {},
   "outputs": [
    {
     "name": "stdin",
     "output_type": "stream",
     "text": [
      "Enter number1 :  40\n",
      "Enter number2 :  60\n",
      "Enter number3 :  50\n"
     ]
    },
    {
     "name": "stdout",
     "output_type": "stream",
     "text": [
      "second num is largest :  60\n"
     ]
    }
   ],
   "source": [
    "# WAP tp find greatest of 3 numbers entered by the user.\n",
    "a = int(input(\"Enter number1 : \"))\n",
    "b = int(input(\"Enter number2 : \"))\n",
    "c = int(input(\"Enter number3 : \"))\n",
    "\n",
    "if(a>=b and a>=c):\n",
    "    print(\"first num is largest \", a)\n",
    "elif(b>=a and b>=c):\n",
    "    print(\"second num is largest : \", b)\n",
    "else:\n",
    "    print(\"third num is largest \", c)"
   ]
  },
  {
   "cell_type": "code",
   "execution_count": 63,
   "id": "285d1117-37ae-4689-bcf5-16614ec7dda9",
   "metadata": {},
   "outputs": [
    {
     "name": "stdin",
     "output_type": "stream",
     "text": [
      "Enter number :  70\n"
     ]
    },
    {
     "name": "stdout",
     "output_type": "stream",
     "text": [
      "Multiple of 7\n"
     ]
    }
   ],
   "source": [
    "#WAP to check if a numbers is a multiple of 7 or not.\n",
    "num = int(input(\"Enter number : \"))\n",
    "if(num%7 == 0):\n",
    "    print(\"Multiple of 7\")\n",
    "else:\n",
    "    print(\"not mulple of 7\")"
   ]
  },
  {
   "cell_type": "markdown",
   "id": "3923d6a0-05d1-4d92-93d1-ecd0419974fb",
   "metadata": {},
   "source": [
    "### Practice Time\n",
    "##### print output for:\n",
    "##### A = 5 & G = M\n",
    "##### A = 2 & G = F"
   ]
  },
  {
   "cell_type": "code",
   "execution_count": 12,
   "id": "41958dfe-aa97-48d6-b0eb-a7cb630afd88",
   "metadata": {},
   "outputs": [
    {
     "name": "stdin",
     "output_type": "stream",
     "text": [
      "A :  1\n",
      "M/F :  M\n"
     ]
    },
    {
     "name": "stdout",
     "output_type": "stream",
     "text": [
      " fee is 100 \n"
     ]
    }
   ],
   "source": [
    "A = int(input(\"A : \"))\n",
    "G = input(\"M/F : \")\n",
    "if(A == 1 or A == 2 and G == \"M\"):\n",
    "    print(\" fee is 100 \")\n",
    "elif(A == 2 or A == 3 and G == \"F\"):\n",
    "    print(\" fee is 200 \")\n",
    "elif(A == 5 and G == \"M\"):\n",
    "    print(\" fee is 300 \")\n",
    "else:\n",
    "    print(\"no fee\")\n"
   ]
  },
  {
   "cell_type": "code",
   "execution_count": 14,
   "id": "3ee1be86-b108-4186-bc80-3992b80cca1c",
   "metadata": {},
   "outputs": [],
   "source": [
    "#NOTE-->\n",
    "# AND                  OR\n",
    "# T T | T           T T | T\n",
    "# F T | F           T F | T\n",
    "# T F | F           F T | T\n",
    "# F F | F           F F | F\n"
   ]
  },
  {
   "cell_type": "markdown",
   "id": "30f50294-91ee-47cd-a066-b2d567d79ac9",
   "metadata": {},
   "source": [
    "### Conditional Statements\n",
    "##### Single Line if | Ternary Operator"
   ]
  },
  {
   "cell_type": "markdown",
   "id": "184ba70b-d654-4fcb-b623-2fb0e773f570",
   "metadata": {},
   "source": [
    "<var>=<val1>if<condition>else<val2>"
   ]
  },
  {
   "cell_type": "code",
   "execution_count": 15,
   "id": "9f8d9fbc-aea8-40bd-bf7b-f2cb8339116d",
   "metadata": {},
   "outputs": [
    {
     "name": "stdin",
     "output_type": "stream",
     "text": [
      "food :  cake\n"
     ]
    },
    {
     "name": "stdout",
     "output_type": "stream",
     "text": [
      "Yes\n"
     ]
    }
   ],
   "source": [
    "#<var>=<val1>if<condition>else<val2>\n",
    "food = input(\"food : \")\n",
    "eat = \"Yes\" if food == \"cake\" else \"no\"\n",
    "print(eat)"
   ]
  },
  {
   "cell_type": "code",
   "execution_count": null,
   "id": "9243faed-0e2f-4c93-8902-a24aa65cd2fe",
   "metadata": {},
   "outputs": [],
   "source": [
    "<stt1>if<condition>else<stt2>"
   ]
  },
  {
   "cell_type": "code",
   "execution_count": 16,
   "id": "5b061ff7-e4f6-41dc-a807-f5deaab6d006",
   "metadata": {},
   "outputs": [
    {
     "name": "stdin",
     "output_type": "stream",
     "text": [
      "food :  jalabi\n"
     ]
    },
    {
     "name": "stdout",
     "output_type": "stream",
     "text": [
      "not sweet\n"
     ]
    }
   ],
   "source": [
    "#<stt1>if<condition>else<stt2>\n",
    "food = input(\"food : \")\n",
    "print(\"sweet\") if food == \"cake\" or food == \"jalebi\" else print(\"not sweet\")\n"
   ]
  },
  {
   "cell_type": "markdown",
   "id": "9f15d541-4917-4f9c-8a56-d1278471dad0",
   "metadata": {},
   "source": [
    "### Conditional Statements\n",
    "##### Clever if |Ternary Operator"
   ]
  },
  {
   "cell_type": "code",
   "execution_count": null,
   "id": "1226d63c-c47d-4a22-a030-8a67e7187481",
   "metadata": {},
   "outputs": [],
   "source": [
    "<var>=(false_val,true_val)[<codition]"
   ]
  },
  {
   "cell_type": "code",
   "execution_count": 29,
   "id": "1548265f-f2f0-4c58-a95b-c58b8c3f4b75",
   "metadata": {},
   "outputs": [
    {
     "name": "stdin",
     "output_type": "stream",
     "text": [
      "age :  17\n"
     ]
    },
    {
     "name": "stdout",
     "output_type": "stream",
     "text": [
      "no\n"
     ]
    }
   ],
   "source": [
    "age = int(input(\"age : \"))\n",
    "vote = (\"yes\",\"no\") [age <= 18]\n",
    "print(vote)"
   ]
  },
  {
   "cell_type": "code",
   "execution_count": 1,
   "id": "b80b376d-dd01-4e88-8270-e09a00ee1398",
   "metadata": {},
   "outputs": [
    {
     "name": "stdin",
     "output_type": "stream",
     "text": [
      "salary :  40000\n"
     ]
    },
    {
     "name": "stdout",
     "output_type": "stream",
     "text": [
      "4000.0\n"
     ]
    }
   ],
   "source": [
    "sal = float(input(\"salary : \"))\n",
    "tax = sal*(0.1,0.2) [sal >= 50000]\n",
    "print(tax)"
   ]
  },
  {
   "cell_type": "code",
   "execution_count": null,
   "id": "e975de52-1bd4-4083-b8a7-dcf72c0dd87f",
   "metadata": {},
   "outputs": [],
   "source": [
    "### Best Practice\n",
    "# Simple intruction\n",
    "-------------------------------------\n",
    "# One intruction per task\n",
    "-------------------------------------\n",
    "# Short & meaningful Varible names\n",
    "-------------------------------------\n",
    "# Use appropriate comments\n",
    "-------------------------------------\n",
    "# Avoid complex Expressions"
   ]
  },
  {
   "cell_type": "markdown",
   "id": "81438052-84a5-49d5-9d00-d4d69eb742eb",
   "metadata": {},
   "source": [
    "### Calculate Simple interest "
   ]
  },
  {
   "cell_type": "code",
   "execution_count": 6,
   "id": "a736ddfd-eb0f-4a87-8cf1-afc302258cae",
   "metadata": {},
   "outputs": [
    {
     "name": "stdin",
     "output_type": "stream",
     "text": [
      "p :  100\n",
      "r :  20\n",
      "t :  30\n"
     ]
    },
    {
     "name": "stdout",
     "output_type": "stream",
     "text": [
      "600.0\n"
     ]
    }
   ],
   "source": [
    "\"\"\" Simple interest formula => (p*r*t)/100\n",
    "# p = principle\n",
    "# r = rate\n",
    "# t = time \n",
    "#  Simple interest\"\"\"\n",
    "\n",
    "p = float(input(\"p : \"))\n",
    "r = float(input(\"r : \"))\n",
    "t = float(input(\"t : \"))\n",
    "si = (p*r*t)/100\n",
    "print(si) "
   ]
  },
  {
   "cell_type": "markdown",
   "id": "dade2625-823c-4d10-a816-4769784d123e",
   "metadata": {},
   "source": [
    "# comments in Python"
   ]
  },
  {
   "cell_type": "code",
   "execution_count": null,
   "id": "2cb5e976-b5f4-43c8-93f0-32e169036aa9",
   "metadata": {},
   "outputs": [],
   "source": [
    "# single line comments\n",
    "\n",
    "\"\"\"\n",
    "Multi Liune\n",
    "Comments\n",
    "\"\"\""
   ]
  },
  {
   "cell_type": "markdown",
   "id": "cfb7288c-6d0a-473e-9f62-57fde16c0979",
   "metadata": {},
   "source": [
    "#  #Types of Operators\n",
    "#### An operator is a symbol that performs a certain operation between operands."
   ]
  },
  {
   "cell_type": "markdown",
   "id": "631769ff-a47b-437c-83e3-02df81936449",
   "metadata": {},
   "source": [
    "#### Arithmetic Operators ( + , - , * , / , % , ** )\n",
    "\n",
    "#### Relational / Comparison Operators ( == , != , > , < , >= , <= )\n",
    "\n",
    "#### Assignment Operators ( = , +=, -= , *= , /= , %= , **=  ) \n",
    "\n",
    "#### Logical Operators ( not , and , or )\n"
   ]
  },
  {
   "cell_type": "code",
   "execution_count": 8,
   "id": "88c0433d-69f7-4e42-afd1-8b63c94a05d7",
   "metadata": {},
   "outputs": [
    {
     "name": "stdout",
     "output_type": "stream",
     "text": [
      "7\n",
      "3\n",
      "10\n",
      "2.5\n",
      "1\n",
      "25\n"
     ]
    }
   ],
   "source": [
    "# Arthmetic Operators ( + , - , * , / , % , ** )\n",
    "\n",
    "a = 5\n",
    "b = 2\n",
    "\n",
    "print(a + b)\n",
    "print(a - b)\n",
    "print(a * b)\n",
    "print(a / b)\n",
    "print(a % b) # remainder\n",
    "print(a ** b) # a^b\n",
    "\n"
   ]
  },
  {
   "cell_type": "code",
   "execution_count": 10,
   "id": "cdfedbd5-c785-43d8-ae22-2f35d8aa311a",
   "metadata": {},
   "outputs": [
    {
     "name": "stdout",
     "output_type": "stream",
     "text": [
      "False\n",
      "True\n",
      "True\n",
      "True\n",
      "False\n",
      "False\n"
     ]
    }
   ],
   "source": [
    "# Relational/ Comparison   Operators ( == , != , > , < , >= , <= )\n",
    "a = 5\n",
    "b = 2\n",
    "\n",
    "print(a == b)  #False\n",
    "print(a != b) #True\n",
    "print(a >= b)  #True\n",
    "print(a > b)   #True\n",
    "print(a <= b)  #False\n",
    "print(a < b)   #False"
   ]
  },
  {
   "cell_type": "code",
   "execution_count": 17,
   "id": "0f44ec10-2daf-44a9-909a-35535a3b769e",
   "metadata": {},
   "outputs": [
    {
     "name": "stdout",
     "output_type": "stream",
     "text": [
      "num :  10\n",
      "num :  15\n",
      "num :  10\n",
      "num :  50\n",
      "num :  10.0\n",
      "num :  0.0\n",
      "num :  0.0\n"
     ]
    }
   ],
   "source": [
    "# Assignment Operators ( = , +=, -= , *= , /= , %= , **=  ) \n",
    "\n",
    "num = 10\n",
    "print(\"num : \",num)\n",
    "\n",
    "num += 5\n",
    "print(\"num : \",num)\n",
    "\n",
    "num -= 5\n",
    "print(\"num : \",num)\n",
    "\n",
    "num *= 5\n",
    "print(\"num : \",num)\n",
    "\n",
    "num /= 5\n",
    "print(\"num : \",num)\n",
    "\n",
    "num %= 5\n",
    "print(\"num : \",num)\n",
    "\n",
    "num **= 5\n",
    "print(\"num : \",num)\n",
    "\n"
   ]
  },
  {
   "cell_type": "code",
   "execution_count": 19,
   "id": "430b026f-8e90-4c0e-b4e1-caec8acec14a",
   "metadata": {},
   "outputs": [
    {
     "name": "stdout",
     "output_type": "stream",
     "text": [
      "True\n",
      "False\n"
     ]
    }
   ],
   "source": [
    "# Logical Operators ( not , and , or )\n",
    "# not\n",
    "a = 50\n",
    "b = 30\n",
    "print(not False)\n",
    "print(not (a > b))\n"
   ]
  },
  {
   "cell_type": "code",
   "execution_count": 23,
   "id": "3fd164f7-f0a5-4af4-a628-49d47d69821b",
   "metadata": {},
   "outputs": [
    {
     "name": "stdout",
     "output_type": "stream",
     "text": [
      "and Operator :  False\n",
      "and Operator :  False\n",
      "and Operator :  False\n",
      "and Operator :  True\n"
     ]
    }
   ],
   "source": [
    "# And Operators\n",
    "val1 = True\n",
    "val2 = False\n",
    "print(\"and Operator : \",val1 and val2)\n",
    "\n",
    "val1 = False\n",
    "val2 = True\n",
    "print(\"and Operator : \",val1 and val2)\n",
    "\n",
    "val1 = False\n",
    "val2 = False\n",
    "print(\"and Operator : \",val1 and val2)\n",
    "\n",
    "val1 = True  \n",
    "val2 = True\n",
    "print(\"and Operator : \",val1 and val2)"
   ]
  },
  {
   "cell_type": "code",
   "execution_count": 24,
   "id": "fdccb364-3a97-4086-bd5b-cbc25405e225",
   "metadata": {},
   "outputs": [
    {
     "name": "stdout",
     "output_type": "stream",
     "text": [
      "and Operator :  True\n",
      "and Operator :  True\n",
      "and Operator :  False\n",
      "and Operator :  True\n"
     ]
    }
   ],
   "source": [
    "# or Operators\n",
    "val1 = True\n",
    "val2 = False\n",
    "print(\"and Operator : \",val1 or val2)\n",
    "\n",
    "val1 = False\n",
    "val2 = True\n",
    "print(\"and Operator : \",val1 or val2)\n",
    "\n",
    "val1 = False\n",
    "val2 = False\n",
    "print(\"and Operator : \",val1 or val2)\n",
    "\n",
    "val1 = True  \n",
    "val2 = True\n",
    "print(\"and Operator : \",val1 or val2)"
   ]
  },
  {
   "cell_type": "markdown",
   "id": "9db496f6-1811-48e3-bad3-41aff8debd94",
   "metadata": {},
   "source": [
    "### 1.Let's Practice\n",
    "###### Write a Program to input 2 numbers & print their sum."
   ]
  },
  {
   "cell_type": "code",
   "execution_count": 31,
   "id": "5b12c871-602f-4b77-b417-49625f200ee9",
   "metadata": {},
   "outputs": [
    {
     "name": "stdin",
     "output_type": "stream",
     "text": [
      "enter num1 :  30\n",
      "enter num2 :  40\n"
     ]
    },
    {
     "name": "stdout",
     "output_type": "stream",
     "text": [
      "sum ::  70\n"
     ]
    }
   ],
   "source": [
    "num1 =  int(input(\"enter num1 : \"))\n",
    "num2 = int(input(\"enter num2 : \"))\n",
    "sum = num1 + num2\n",
    "\n",
    "print(\"sum :: \",sum)"
   ]
  },
  {
   "cell_type": "markdown",
   "id": "dd036726-df4a-4038-ab01-dded955f26f7",
   "metadata": {},
   "source": [
    "### 2.Let's Practice\n",
    "##### WAP to input side of a square & print its area."
   ]
  },
  {
   "cell_type": "code",
   "execution_count": 6,
   "id": "334f06f3-5138-4396-8a83-6ee60841c3ca",
   "metadata": {},
   "outputs": [
    {
     "name": "stdin",
     "output_type": "stream",
     "text": [
      "enter square side :  4\n"
     ]
    },
    {
     "name": "stdout",
     "output_type": "stream",
     "text": [
      "area :  16.0\n"
     ]
    }
   ],
   "source": [
    "side = float(input(\"enter square side : \"))\n",
    "print(\"area : \",side**2)"
   ]
  },
  {
   "cell_type": "markdown",
   "id": "ea6f2cdd-8919-411e-a0da-b1799e785e4b",
   "metadata": {},
   "source": [
    "### 3.Let's Practice\n",
    "##### WAP to input 2 floating point numbers & print their avarage"
   ]
  },
  {
   "cell_type": "code",
   "execution_count": 14,
   "id": "6bce37f8-ce00-497c-9c4e-66cba91921fb",
   "metadata": {},
   "outputs": [
    {
     "name": "stdin",
     "output_type": "stream",
     "text": [
      "num1 :  16.5\n",
      "num2 :  3.5\n"
     ]
    },
    {
     "name": "stdout",
     "output_type": "stream",
     "text": [
      "10.0\n"
     ]
    }
   ],
   "source": [
    "num1 = float(input(\"num1 : \"))\n",
    "num2 = float(input(\"num2 : \"))\n",
    "Avg = (num1 + num2)/2 \n",
    "print(Avg)\n",
    "\n"
   ]
  },
  {
   "cell_type": "markdown",
   "id": "e7fb4bbe-997c-4302-8d47-e101c6e618a7",
   "metadata": {},
   "source": [
    "### 4.Let's Practice\n",
    "##### WAP to input 2 int numbers ,a and b.\n",
    "##### Print True if a is great or equal ti b if not print False"
   ]
  },
  {
   "cell_type": "code",
   "execution_count": 16,
   "id": "f1493fd4-8de8-4e34-8b26-82252ea66395",
   "metadata": {},
   "outputs": [
    {
     "name": "stdin",
     "output_type": "stream",
     "text": [
      "enter num1 :  10\n",
      "enter num2 :  20\n"
     ]
    },
    {
     "name": "stdout",
     "output_type": "stream",
     "text": [
      "False\n"
     ]
    }
   ],
   "source": [
    "a =  int(input(\"enter num1 : \"))\n",
    "b = int(input(\"enter num2 : \"))\n",
    "\n",
    "print(a >= b)"
   ]
  },
  {
   "cell_type": "markdown",
   "id": "51a76e98-0884-4fc6-818a-bb8e971a7292",
   "metadata": {},
   "source": [
    "#                                   Chapter 2\n",
    "###                      String & Conditional Statements"
   ]
  },
  {
   "cell_type": "markdown",
   "id": "8969c0d4-994b-4c0c-af36-1af9e9c7cc8c",
   "metadata": {},
   "source": [
    "### Strings\n",
    "##### String is data type that stores a sequence of characters."
   ]
  },
  {
   "cell_type": "code",
   "execution_count": 18,
   "id": "89995c0e-7c95-4370-acf9-f2b4cfafc0ff",
   "metadata": {},
   "outputs": [
    {
     "data": {
      "text/plain": [
       "'Basic Operations\\n\\n* concatenation\\n\\n    “hello” + “world” ----> \"helliworld\"\\n\\n* length of str\\n\\n    len(str)'"
      ]
     },
     "execution_count": 18,
     "metadata": {},
     "output_type": "execute_result"
    }
   ],
   "source": [
    "\n",
    "'Basic Operations\n",
    "\n",
    "* concatenation\n",
    "\n",
    "    “hello” + “world” ----> \"helliworld\"\n",
    "\n",
    "* length of str\n",
    "\n",
    "    len(str)'\n"
   ]
  },
  {
   "cell_type": "code",
   "execution_count": 54,
   "id": "55bc2c36-a9e1-47b1-882b-5169db160255",
   "metadata": {},
   "outputs": [
    {
     "name": "stdout",
     "output_type": "stream",
     "text": [
      "JayShreeRam\n"
     ]
    }
   ],
   "source": [
    "#Ex.\n",
    "str1 = \"Jay\" \n",
    "str2 = \"Shree\" \n",
    "str3 = \"Ram\"\n",
    "\n",
    "#print(str1+str2+str3)\n",
    "\n",
    "finel_str = str1 + str2 + str3\n",
    "\n",
    "print(finel_str)\n",
    "\n"
   ]
  },
  {
   "cell_type": "markdown",
   "id": "72154bd0-eb6e-4108-90fa-b3e83b6d0632",
   "metadata": {},
   "source": [
    "### #indexing\n",
    "\n",
    "####  A p n a _ C o l l e  g  e\n",
    "#### 0  1 2 3 4 5 6 7 8 9 10 11"
   ]
  },
  {
   "cell_type": "code",
   "execution_count": 73,
   "id": "fec43947-af89-49e0-beed-24f47700ed03",
   "metadata": {},
   "outputs": [
    {
     "data": {
      "text/plain": [
       "'str = \"Apna_College\\n\\nstr[0] is \\'A\\', str[1] is \\'p\\'.....\\n\\nstr[0] = B    #not allowed'"
      ]
     },
     "execution_count": 73,
     "metadata": {},
     "output_type": "execute_result"
    }
   ],
   "source": [
    "\"\"\"str = \"Apna_College\n",
    "\n",
    "str[0] is 'A', str[1] is 'p'.....\n",
    "\n",
    "str[0] = B    #not allowed\"\"\""
   ]
  },
  {
   "cell_type": "code",
   "execution_count": 94,
   "id": "b6d54232-29c6-4e44-9056-d59407d8fdd8",
   "metadata": {},
   "outputs": [
    {
     "name": "stdout",
     "output_type": "stream",
     "text": [
      "man Bhasariya\n",
      "m\n",
      "h\n",
      "a\n",
      "s\n",
      "r\n"
     ]
    }
   ],
   "source": [
    "Str = \"man Bhasariya\"\n",
    "print(Str)\n",
    "print(str[0])\n",
    "print(str[5])\n",
    "print(str[6])\n",
    "print(str[7])\n",
    "print(str[9])\n"
   ]
  },
  {
   "cell_type": "markdown",
   "id": "a3f67f1b-2129-4dbe-b0ff-53e3f05636fd",
   "metadata": {},
   "source": [
    "## Slicing\n",
    "#####  Accessing parts of a string"
   ]
  },
  {
   "cell_type": "code",
   "execution_count": null,
   "id": "0e0d972d-2620-4837-a391-2c6825fa3fe6",
   "metadata": {},
   "outputs": [],
   "source": [
    " str[ starting_idx : ending_idx ] #ending idx is not included\n",
    "\n",
    " str = “ApnaCollege”\n",
    "\n",
    " str[ 1 : 4 ] is “pna”\n",
    "\n",
    " str[  : 4 ] is same as str[ 0 : 4]\n",
    "\n",
    " str[ 1 :  ] is same as str[ 1 : len(str) ]\n",
    "\n",
    " Apna C "
   ]
  },
  {
   "cell_type": "code",
   "execution_count": 95,
   "id": "f2f5bf7e-a1e1-4d9a-be8b-f26c4b06becf",
   "metadata": {},
   "outputs": [
    {
     "name": "stdout",
     "output_type": "stream",
     "text": [
      "mann \n"
     ]
    }
   ],
   "source": [
    "# Ex.\n",
    "str = \"mann Bhasariya\"\n",
    "\n",
    "print(str[0:5])"
   ]
  },
  {
   "cell_type": "code",
   "execution_count": 97,
   "id": "b3f223aa-386a-41a7-9746-c78b541bdac7",
   "metadata": {},
   "outputs": [
    {
     "name": "stdout",
     "output_type": "stream",
     "text": [
      "mann Bha\n"
     ]
    }
   ],
   "source": [
    "# Ex\n",
    "str = \"mann Bhasariya\"\n",
    "\n",
    "print(str[0:8])"
   ]
  },
  {
   "cell_type": "code",
   "execution_count": 99,
   "id": "8e1e9667-7955-466c-8d0d-68d92fafec50",
   "metadata": {},
   "outputs": [
    {
     "name": "stdout",
     "output_type": "stream",
     "text": [
      "mann Bha\n",
      " Bhasariya\n"
     ]
    }
   ],
   "source": [
    "# Ex\n",
    "str = \"mann Bhasariya\"\n",
    "\n",
    "print(str[:8]) #[0:4]\n",
    "\n",
    "print(str[4:]) #[5:len(str)]\n"
   ]
  },
  {
   "cell_type": "markdown",
   "id": "950f4c40-3908-402c-92cb-6e2330a96e1b",
   "metadata": {},
   "source": [
    "## Slicing\n",
    "#### Nagative index"
   ]
  },
  {
   "cell_type": "code",
   "execution_count": 109,
   "id": "a6792995-dd6c-4045-80f2-c64dbc9a769e",
   "metadata": {},
   "outputs": [
    {
     "name": "stdout",
     "output_type": "stream",
     "text": [
      "appl\n"
     ]
    }
   ],
   "source": [
    "#  A  p  p  l  e\n",
    "# -1 -2 -3 -4 -5\n",
    "\n",
    "str = \"apple\"\n",
    "\n",
    "print(str[-5 : -1]) #is \"pl\""
   ]
  },
  {
   "cell_type": "code",
   "execution_count": 111,
   "id": "7e6f1440-19e2-4e04-abfb-1d7842ede012",
   "metadata": {},
   "outputs": [
    {
     "name": "stdout",
     "output_type": "stream",
     "text": [
      "sariy\n"
     ]
    }
   ],
   "source": [
    "str = \"mamm Bhasariya\"\n",
    "\n",
    "print(str[-6 : -1])"
   ]
  },
  {
   "cell_type": "markdown",
   "id": "aafd077b-f4b5-42c6-a23e-7e75e24f2e32",
   "metadata": {},
   "source": [
    "## String Functions"
   ]
  },
  {
   "cell_type": "markdown",
   "id": "ec6d0a4b-235d-4027-9c15-d1ab33b2af06",
   "metadata": {},
   "source": [
    "<h3> str = “I am a coder.” </h3>\n",
    "<h3> str.endsWith(“er.“)  #returns true if string ends with substr </h3>\n",
    "\n",
    "<h3>str.capitalize( )  #capitalizes 1st char  </h3>\n",
    "\n",
    "<h3> str.replace( old, new )  #replaces all occurrences of old with new </h3>\n",
    "\n",
    "<h3> str.find( word )  #returns 1st index of 1st occurrence</h3>\n",
    "\n",
    "<h3> str.count(“am“)  #counts the occurrence of substr in string </h3\n",
    ">\n"
   ]
  },
  {
   "cell_type": "code",
   "execution_count": null,
   "id": "63c69655-f97c-4179-9ed7-e933db482082",
   "metadata": {},
   "outputs": [],
   "source": []
  },
  {
   "cell_type": "markdown",
   "id": "3056a6de-bfdb-4a44-8eb3-4565b886219f",
   "metadata": {},
   "source": [
    "<h3> str.endsWith(“er.“)  #returns true if string ends with substr </h3>\n"
   ]
  },
  {
   "cell_type": "code",
   "execution_count": 5,
   "id": "5eed8c05-253c-4bc1-96b8-d60f28f44157",
   "metadata": {},
   "outputs": [
    {
     "name": "stdout",
     "output_type": "stream",
     "text": [
      "True\n",
      "False\n",
      "True\n"
     ]
    }
   ],
   "source": [
    "#str.endswith(“er.“)  #returns true if string ends with substr \n",
    "\n",
    "#Ex.1\n",
    "str = \"I am studing python frome Apanacollege\"\n",
    "print(str.endswith(\"ege\"))\n",
    "print(str.endswith(\"Apn\"))\n",
    "\n",
    "\n",
    "\n",
    "#Ex.2\n",
    "str = \"My name is mann frome rajasthen i am 22 year old and i learning\"\n",
    "print(str.endswith(\"ing\"))"
   ]
  },
  {
   "cell_type": "markdown",
   "id": "e92d4b6e-761f-47e8-b5b0-698e79f410a4",
   "metadata": {},
   "source": [
    "<h3>str.capitalize( )  #capitalizes 1st char  </h3>\n"
   ]
  },
  {
   "cell_type": "code",
   "execution_count": 11,
   "id": "d70f6ae4-fc64-4f4b-881d-915ff5d50084",
   "metadata": {},
   "outputs": [
    {
     "name": "stdout",
     "output_type": "stream",
     "text": [
      "I am studying python frome apanacollege\n",
      "i am studying python frome Apanacollege\n",
      "I am studying python frome apanacollege\n",
      "I am studying python frome apanacollege\n"
     ]
    }
   ],
   "source": [
    "str.capitalize( )  #capitalizes 1st char\n",
    "\n",
    "#Ex.1\n",
    "str = \"i am studying python frome Apanacollege\"\n",
    "print(str.capitalize( ));\n",
    "print(str)\n",
    "\n",
    "str = (str.capitalize( ));\n",
    "print(str)\n",
    "print(str)\n",
    "\n",
    "\n"
   ]
  },
  {
   "cell_type": "markdown",
   "id": "586132ff-b988-483f-a412-bdc7a3814eaa",
   "metadata": {},
   "source": [
    "<h3> str.replace( old, new )  #replaces all occurrences of old with new </h3>"
   ]
  },
  {
   "cell_type": "code",
   "execution_count": 18,
   "id": "37755634-8d38-4851-ad54-3bddfe0ef0ed",
   "metadata": {},
   "outputs": [
    {
     "name": "stdout",
     "output_type": "stream",
     "text": [
      "i Am studying python frome Apanacollege\n",
      "i am studying pythOn frOme ApanacOllege\n",
      "i am studying python frome Apanacollege\n",
      "i am studying java frome Apanacollege\n"
     ]
    }
   ],
   "source": [
    "str = \"i am studying python frome Apanacollege\"\n",
    "print( str.replace( \"am\", \"Am\" ))\n",
    "print( str.replace( \"o\", \"O\" ))\n",
    "print( str.replace( \"Aapanacollege\", \"Sapana College\" ))\n",
    "print( str.replace( \"python\", \"java\" ))"
   ]
  },
  {
   "cell_type": "markdown",
   "id": "e7a4cfe6-f9c6-4075-9050-cd86d8a03685",
   "metadata": {},
   "source": [
    "<h3> str.find( word )  #returns 1st index of 1st occurrence</h3>"
   ]
  },
  {
   "cell_type": "code",
   "execution_count": 25,
   "id": "7603f13a-767b-48d3-b0f5-14f37103f6eb",
   "metadata": {},
   "outputs": [
    {
     "name": "stdout",
     "output_type": "stream",
     "text": [
      "2\n",
      "14\n",
      "27\n",
      "5\n",
      "14\n"
     ]
    }
   ],
   "source": [
    "str = \"i am studying python frome Apana college\"\n",
    "print(str.find(\"am\"))\n",
    "print(str.find(\"python\"))\n",
    "print(str.find(\"Apana\"))\n",
    "print(str.find(\"s\"))\n",
    "print(str.find(\"p\"))"
   ]
  },
  {
   "cell_type": "markdown",
   "id": "0ae7b28e-2033-452d-84c4-f117acd6660b",
   "metadata": {},
   "source": [
    "<h3> str.count(“am“)  #counts the occurrence of substr in string </h3\n"
   ]
  },
  {
   "cell_type": "code",
   "execution_count": 29,
   "id": "1ded928e-63e7-492c-87b2-10dc71f7e027",
   "metadata": {},
   "outputs": [
    {
     "name": "stdout",
     "output_type": "stream",
     "text": [
      "3\n",
      "1\n",
      "2\n",
      "1\n"
     ]
    }
   ],
   "source": [
    "str = \"i am studying python frome Apana college\"\n",
    "print(str.count(\"a\"))\n",
    "print(str.count(\"am\"))\n",
    "print(str.count(\"l\"))\n",
    "print(str.count(\"frome\"))"
   ]
  },
  {
   "cell_type": "markdown",
   "id": "69d23c79-381d-4711-8837-5fdfdc9f017b",
   "metadata": {},
   "source": [
    "## Let's Practice\n",
    "#### 1.WAP to input user's first & print its length."
   ]
  },
  {
   "cell_type": "code",
   "execution_count": 33,
   "id": "3285421a-806b-458d-9d7f-4517ed2fad3a",
   "metadata": {},
   "outputs": [
    {
     "name": "stdin",
     "output_type": "stream",
     "text": [
      "name :  mann \n"
     ]
    },
    {
     "name": "stdout",
     "output_type": "stream",
     "text": [
      "name lenght :  mann   :  5\n"
     ]
    }
   ],
   "source": [
    "name = input(\"name : \")\n",
    "print(\"name lenght : \",name,\" : \",len(name))"
   ]
  },
  {
   "cell_type": "markdown",
   "id": "e12cd8fe-7876-4ef9-80c9-f4cc65719c3c",
   "metadata": {},
   "source": [
    "#### 2.WAP to find the occurence of '$' in a String"
   ]
  },
  {
   "cell_type": "code",
   "execution_count": 36,
   "id": "d7145355-900a-4d64-82f2-8a2f47c2b3dd",
   "metadata": {},
   "outputs": [
    {
     "name": "stdout",
     "output_type": "stream",
     "text": [
      "4\n"
     ]
    }
   ],
   "source": [
    "str = \"Hi $ I am $ the $ symbol $99.99\"\n",
    "print(str.count(\"$\"))"
   ]
  },
  {
   "cell_type": "markdown",
   "id": "8508e64e-b0fa-4b0d-b46e-595344f94e0b",
   "metadata": {},
   "source": [
    "## #Lists in Python\n",
    "####  A built-in data type that stores set of values\n",
    "####  It can store elements of different types (integer, float, string, etc.)"
   ]
  },
  {
   "cell_type": "markdown",
   "id": "2311acf0-2ae7-43fb-b76b-c7e295c3ac5f",
   "metadata": {},
   "source": [
    "##### marks = [87, 64, 33, 95, 76]      #marks[0], marks[1]..\n",
    "\n",
    "##### student = [”Karan”, 85, “Delhi”]  #student[0], student[1]..\n",
    "\n",
    "##### student[0] = “Arjun”              #allowed in python\n",
    "\n",
    "##### len(student)                       #returns lengt"
   ]
  },
  {
   "cell_type": "code",
   "execution_count": 6,
   "id": "e72d8a6f-3471-411b-8536-452dd5c727f1",
   "metadata": {},
   "outputs": [
    {
     "name": "stdout",
     "output_type": "stream",
     "text": [
      "[65, 68, 57, 47, 70, 72, 90, 85, 96]\n",
      "70\n",
      "47\n",
      "85\n",
      "<class 'list'>\n",
      "9\n"
     ]
    }
   ],
   "source": [
    "marks = [65,68,57,47,70,72,90,85,96]\n",
    "print(marks)\n",
    "print(marks[4])\n",
    "print(marks[3])\n",
    "print(marks[7])\n",
    "print(type(marks))\n",
    "print(len(marks))"
   ]
  },
  {
   "cell_type": "code",
   "execution_count": 19,
   "id": "d6cd1b85-ba1a-4f83-b998-e3d7eb24fa99",
   "metadata": {},
   "outputs": [
    {
     "name": "stdout",
     "output_type": "stream",
     "text": [
      "95\n",
      "mann\n",
      "rajasthan\n",
      "22\n"
     ]
    }
   ],
   "source": [
    "#Ex.\n",
    "#arry\n",
    "student = [\"mann\",95,22,\"rajasthan\"]\n",
    "print(student[1])\n",
    "print(student[0])\n",
    "print(student[3])\n",
    "print(student[2])"
   ]
  },
  {
   "cell_type": "code",
   "execution_count": null,
   "id": "84069c97-f111-4fe7-a086-9da2f37ba200",
   "metadata": {},
   "outputs": [],
   "source": [
    "Python\n",
    "String --> inmutable\n",
    "\n",
    "list ---> mutable"
   ]
  },
  {
   "cell_type": "code",
   "execution_count": 21,
   "id": "893a08a0-1322-409a-ac67-953f4679558b",
   "metadata": {},
   "outputs": [
    {
     "name": "stdout",
     "output_type": "stream",
     "text": [
      "Arjun\n",
      "4\n"
     ]
    }
   ],
   "source": [
    "student = [\"mann\",95,22,\"rajasthan\"]\n",
    "\n",
    "student[0] = \"Arjun\"\n",
    "\n",
    "print(student[0])\n",
    "print(len(student))\n",
    "#print(student[5])  # galat he kyu ki len to sirf 4 hihe isaliye arrer aayega"
   ]
  },
  {
   "cell_type": "markdown",
   "id": "1f0a947a-75f6-4c71-b496-71f231bc9ce0",
   "metadata": {},
   "source": [
    "## List Slicing\n",
    "####  Similar to String Slicing"
   ]
  },
  {
   "cell_type": "markdown",
   "id": "cf0ba8cc-f51c-4f1d-94c2-3a2011b7103f",
   "metadata": {},
   "source": [
    "#####  list_name[ starting_idx : ending_idx ] #ending idx is not included"
   ]
  },
  {
   "cell_type": "code",
   "execution_count": null,
   "id": "34705690-f591-45bb-bc39-3b9d52d3cc49",
   "metadata": {},
   "outputs": [],
   "source": [
    " marks = [87, 64, 33, 95, 76]\n",
    "\n",
    " marks[ 1 : 4 ] is [64, 33, 95]\n",
    "\n",
    " marks[  : 4 ] is same as marks[ 0 : 4]\n",
    "\n",
    " marks[ 1 :  ] is same as marks[ 1 : len(marks) ]\n",
    "\n",
    " marks[ -3 : -1 ] is [33, 95]"
   ]
  },
  {
   "cell_type": "markdown",
   "id": "9e307440-45f0-4c67-b78e-0dfec2fbfbb4",
   "metadata": {},
   "source": [
    "### List Methods"
   ]
  },
  {
   "cell_type": "code",
   "execution_count": null,
   "id": "23996bed-3058-47c1-8c9b-e047a357d5c5",
   "metadata": {},
   "outputs": [],
   "source": [
    "list = [2, 1, 3]\n",
    "\n",
    "1 list.append(4)  #adds one element at the end [2, 1, 3, 4]\n",
    "\n",
    "2 list.sort( )  #sorts in ascending order [1, 2, 3]\n",
    "\n",
    "3 list.sort( reverse=True )  #sorts in descending order  [3, 2, 1]\n",
    "\n",
    "4 list.reverse( )  #reverses list [3, 1, 2]\n",
    "\n",
    "5  list.insert( idx, el )  #insert element at index"
   ]
  },
  {
   "cell_type": "code",
   "execution_count": 8,
   "id": "1d8a7d57-0964-40cb-af28-30d75492a02d",
   "metadata": {},
   "outputs": [
    {
     "name": "stdout",
     "output_type": "stream",
     "text": [
      "[1, 3, 5, 4, 8, 6, 9, 4]\n",
      "[1, 3, 5, 4, 8, 6, 9, 4, 18]\n"
     ]
    }
   ],
   "source": [
    "# 1 list.append(4)  #adds one element at the end\n",
    "#Es1\n",
    "list = [1,3,5,4,8,6,9]\n",
    "list.append(4)\n",
    "print(list)\n",
    "\n",
    "#Ex2.\n",
    "list2 = [9,7,5,3,9,2,1,0]\n",
    "list.append(18)\n",
    "print(list)\n"
   ]
  },
  {
   "cell_type": "code",
   "execution_count": 24,
   "id": "17948981-b5df-4efa-88a7-a964092df00a",
   "metadata": {},
   "outputs": [
    {
     "name": "stdout",
     "output_type": "stream",
     "text": [
      "[1, 3, 4, 5, 6, 8, 9]\n",
      "[0, 1, 2, 3, 5, 7, 9, 9]\n",
      "['apple', 'banana', 'litch', 'orange']\n",
      "['a', 'b', 'e', 'f', 'h']\n"
     ]
    }
   ],
   "source": [
    "#2 list.sort( )  #sorts in ascending order\n",
    "#Es1\n",
    "list = [1,3,5,4,8,6,9]\n",
    "list.sort()\n",
    "print(list)\n",
    "\n",
    "#Ex2.\n",
    "list2 = [9,7,5,3,9,2,1,0]\n",
    "list2.sort()\n",
    "print(list2)\n",
    "\n",
    "#Ex3\n",
    "list3 = [\"banana\",\"litch\",\"apple\",\"orange\"]\n",
    "list3.sort()\n",
    "print(list3)\n",
    "\n",
    "#Ex4\n",
    "list4 = ['b', 'e','a','f','h']\n",
    "list4.sort()\n",
    "print(list4)"
   ]
  },
  {
   "cell_type": "code",
   "execution_count": 26,
   "id": "256cf1b4-824c-4919-8c5c-5d6f6536e1b9",
   "metadata": {},
   "outputs": [
    {
     "name": "stdout",
     "output_type": "stream",
     "text": [
      "[9, 8, 6, 5, 4, 3, 1]\n",
      "['h', 'f', 'e', 'b', 'a']\n"
     ]
    }
   ],
   "source": [
    "#3 list.sort( reverse=True )  #sorts in descending order\n",
    "\n",
    "#Es1\n",
    "list = [1,3,5,4,8,6,9]\n",
    "list.sort(reverse=True)\n",
    "print(list)\n",
    "\n",
    "\n",
    "#Ex4\n",
    "list4 = ['b', 'e','a','f','h']\n",
    "list4.sort(reverse=True)\n",
    "print(list4)\n",
    "\n",
    "\n",
    "#NOTE = sorting\n",
    "\n",
    "# ascending order --> 0 1 2 3 4 5 6 7\n",
    "\n",
    "# descending order -->7 6 5 4 3 2 1 0\n"
   ]
  },
  {
   "cell_type": "code",
   "execution_count": 11,
   "id": "2a5daf0f-d3ee-4c60-b0fb-3768149699fa",
   "metadata": {},
   "outputs": [
    {
     "name": "stdout",
     "output_type": "stream",
     "text": [
      "[0, 1, 2, 9, 3, 5, 7, 9]\n"
     ]
    }
   ],
   "source": [
    "#4 list.reverse( )  #reverses list\n",
    "list = [9,7,5,3,9,2,1,0]\n",
    "list.reverse()\n",
    "print(list)"
   ]
  },
  {
   "cell_type": "code",
   "execution_count": 27,
   "id": "c0b8df09-88a3-470d-99b1-c24b641a00d8",
   "metadata": {},
   "outputs": [
    {
     "name": "stdout",
     "output_type": "stream",
     "text": [
      "[11, 1, 3, 5, 4, 8, 6, 9]\n"
     ]
    }
   ],
   "source": [
    "# 5  list.insert( idx, el )  #insert element at index\n",
    "\n",
    "#Es1\n",
    "list = [1,3,5,4,8,6,9]\n",
    "list.insert(0,11)\n",
    "print(list)"
   ]
  },
  {
   "cell_type": "markdown",
   "id": "79960800-79e7-40cd-8cfc-6877d0d44249",
   "metadata": {},
   "source": [
    "## list Method"
   ]
  },
  {
   "cell_type": "code",
   "execution_count": null,
   "id": "48c3dc92-4d22-4e29-a8f0-a8d7338b1461",
   "metadata": {},
   "outputs": [],
   "source": [
    "list = [2,1,3,5]\n",
    "\n",
    " list.remove(1) #removes first coccurrence of element [2,3,1]\n",
    "\n",
    " list.pop(idx) #remove element at ind"
   ]
  },
  {
   "cell_type": "code",
   "execution_count": 32,
   "id": "a99a9ec4-fb0b-4476-8c1f-49d0be90f610",
   "metadata": {},
   "outputs": [
    {
     "name": "stdout",
     "output_type": "stream",
     "text": [
      "[1, 5, 4, 8, 6, 9]\n",
      "[1, 3, 5, 4, 8, 6]\n",
      "[1, 3, 5, 4, 6, 9]\n"
     ]
    }
   ],
   "source": [
    "# list.remove(1) #removes first coccurrence of element [2,3,1]\n",
    "\n",
    "#Es1\n",
    "list1 = [1,3,5,4,8,6,9]\n",
    "list1.remove(3)\n",
    "print(list1)\n",
    "\n",
    "list2 = [1,3,5,4,8,6,9]\n",
    "list2.remove(9)\n",
    "print(list2)\n",
    "\n",
    "list3 = [1,3,5,4,8,6,9]\n",
    "list3.remove(8)\n",
    "print(list3)"
   ]
  },
  {
   "cell_type": "code",
   "execution_count": 35,
   "id": "4301ac13-30ae-4e22-bb93-b3fd3275dbed",
   "metadata": {},
   "outputs": [
    {
     "name": "stdout",
     "output_type": "stream",
     "text": [
      "[3, 5, 4, 8, 6, 9]\n",
      "[1, 3, 5, 4, 6, 9]\n",
      "[1, 3, 5, 4, 8, 9]\n"
     ]
    }
   ],
   "source": [
    "# list.pop(idx) #remove element at ind\n",
    "\n",
    "#Es1\n",
    "list1 = [1,3,5,4,8,6,9]\n",
    "list1.pop(0)\n",
    "print(list1)\n",
    "\n",
    "list2 = [1,3,5,4,8,6,9]\n",
    "list2.pop(4)\n",
    "print(list2)\n",
    "\n",
    "list3 = [1,3,5,4,8,6,9]\n",
    "list3.pop(5)\n",
    "print(list3)"
   ]
  },
  {
   "cell_type": "markdown",
   "id": "35b3d30e-47eb-47aa-8bcc-4c0e4520f79b",
   "metadata": {},
   "source": [
    "## Tuples in python\n",
    "#### A built-in data type that lets us create immutable sequences of values"
   ]
  },
  {
   "cell_type": "code",
   "execution_count": null,
   "id": "bc7bd196-ca85-4685-a665-762d27339b66",
   "metadata": {},
   "outputs": [],
   "source": [
    "tub = (87,64,33,97,88) # tub[0] ,#tub[1]\n",
    "\n",
    "tub[0] = 43 #Not allowed in python\n",
    "\n",
    "tub1 = ()\n",
    "\n",
    "tub2 = (1,)\n",
    "\n",
    "tub3 = (1,2,3)"
   ]
  },
  {
   "cell_type": "code",
   "execution_count": 15,
   "id": "3525f7a6-d9c2-4dc7-a88e-34b98b98b07f",
   "metadata": {},
   "outputs": [],
   "source": [
    "# IMP NOTE---------->>>\n",
    "# List ko aasal ikha jata he Ex--> \n",
    "list = [\"man\",\"woman\",\"child\",\"tudent\"]   \n",
    "#                           --> list = [3,4,6,5,9,0,1,3]\n",
    "#                          --> list = [2.3,4.5,7.3,5.9]\n",
    "\n",
    "#Or Tuple ko aasal ikha jata he Ex--> tuple = (man,woman,child,student)   \n",
    "#                                 --> tuple = (3,4,6,5,9,0,1,3)\n",
    "#                                 --> tuple = (2.3,4.5,7.3,5.9)"
   ]
  },
  {
   "cell_type": "code",
   "execution_count": 17,
   "id": "d1e9ea8c-dd5b-46ed-abe0-754621b3f946",
   "metadata": {},
   "outputs": [
    {
     "name": "stdout",
     "output_type": "stream",
     "text": [
      "<class 'str'>\n",
      "<class 'list'>\n",
      "<class 'tuple'>\n"
     ]
    }
   ],
   "source": [
    "# imp note---->\n",
    "# diffrence string , list , tuple\n",
    "str = \"rajasthn\"\n",
    "\n",
    "print(type(str))\n",
    "\n",
    "list = [4,6,8,1,3,5]\n",
    "print(type(list))\n",
    "\n",
    "tuple = (1,2,3,4,5,6,7)\n",
    "print(type(tuple))"
   ]
  },
  {
   "cell_type": "code",
   "execution_count": 4,
   "id": "0b0d3576-2d55-447f-9d6b-61e09071df4a",
   "metadata": {},
   "outputs": [
    {
     "name": "stdout",
     "output_type": "stream",
     "text": [
      "<class 'tuple'>\n",
      "2\n",
      "6\n"
     ]
    }
   ],
   "source": [
    "tub = (2,5,3,7,6)\n",
    "print(type(tub))\n",
    "print(tub[0])\n",
    "print(tub[4])\n",
    "#print(tub[5]) #wrong"
   ]
  },
  {
   "cell_type": "code",
   "execution_count": 1,
   "id": "c9db0755-2e75-4bf1-b6d5-c7cfa8cbebec",
   "metadata": {},
   "outputs": [
    {
     "name": "stdout",
     "output_type": "stream",
     "text": [
      "(22,)\n",
      "<class 'tuple'>\n",
      "(2.0,)\n",
      "<class 'tuple'>\n",
      "('mann',)\n",
      "<class 'tuple'>\n",
      "('',)\n",
      "<class 'tuple'>\n",
      "22\n",
      "<class 'int'>\n",
      "2.0\n",
      "<class 'float'>\n",
      "mann\n",
      "<class 'str'>\n",
      "<class 'tuple'>\n",
      "<class 'tuple'>\n",
      "<class 'tuple'>\n"
     ]
    }
   ],
   "source": [
    "# IMP NOTE-->\n",
    "# Tuple ka liye single value ka bad , lagana jaru ri he \n",
    "# tabhi use Taple mana jayega\n",
    "# single value ka satha , lagana compulsory he\n",
    "\n",
    "tub = (22,)\n",
    "print(tub)\n",
    "print(type(tub))\n",
    "\n",
    "tub = (2.0,)\n",
    "print(tub)\n",
    "print(type(tub))\n",
    "\n",
    "tub = (\"mann\",)\n",
    "print(tub)\n",
    "print(type(tub))\n",
    "\n",
    "tub = (\"\",)\n",
    "print(tub)\n",
    "print(type(tub))\n",
    "\n",
    "\n",
    "# Tuple ka liye single value ka bad , lagana jaru ri he \n",
    "# aagar , nahi lagaya to vo tu tuple nahi mana jayega \n",
    "# jasi value hogi vasa hi type mana jayega\n",
    "# int to int ,float to float ,\"str\" to \"str\"\n",
    "\n",
    "tub = (22)\n",
    "print(tub)\n",
    "print(type(tub))\n",
    "\n",
    "tub = (2.0)\n",
    "print(tub)\n",
    "print(type(tub))\n",
    "\n",
    "tub = (\"mann\")\n",
    "print(tub)\n",
    "print(type(tub))\n",
    "\n",
    "# single value ka satha' , 'lagana compulsory he\n",
    "# but valuse 1 sa jayada hone par last ma' , 'lagao ya na lagao koi \n",
    "# farak ni padata vo taple hi mana jayega\n",
    "\n",
    "tuple = (1,2,3,4,5,6,7)\n",
    "print(type(tuple))\n",
    "\n",
    "\n",
    "tuple = (\"man\",\"woman\",\"child\",\"student\")  \n",
    "print(type(tuple))\n",
    "\n",
    "\n",
    "tuple = (1.0,4.3,5.8,9.0,4.5)\n",
    "print(type(tuple))\n"
   ]
  },
  {
   "cell_type": "code",
   "execution_count": 3,
   "id": "8998798f-e5dc-40ac-adba-5693e5f5e991",
   "metadata": {},
   "outputs": [
    {
     "name": "stdout",
     "output_type": "stream",
     "text": [
      "(2, 3, 4)\n"
     ]
    }
   ],
   "source": [
    "tuple = (1,2,3,4,5,6,7)\n",
    "print(tuple[1:4])\n"
   ]
  },
  {
   "cell_type": "markdown",
   "id": "4318157f-0e70-4ba7-81ea-42b6aaf8e61e",
   "metadata": {},
   "source": [
    "## Tuple Methods"
   ]
  },
  {
   "cell_type": "code",
   "execution_count": null,
   "id": "02445a0d-5b4b-4bca-a32d-259616a5e722",
   "metadata": {},
   "outputs": [],
   "source": [
    "tup = (2, 1, 3, 1)\n",
    "tup.index( el )  #returns index of first occurrence\n",
    "tup.count( el )  #counts total occurrences \n",
    "tup.index(1) is 1\n",
    "tup.count(1) is 2"
   ]
  },
  {
   "cell_type": "code",
   "execution_count": 6,
   "id": "578d918e-5e1d-4599-a1f7-ba793bf189a6",
   "metadata": {},
   "outputs": [
    {
     "name": "stdout",
     "output_type": "stream",
     "text": [
      "0\n",
      "2\n",
      "1\n",
      "2\n"
     ]
    }
   ],
   "source": [
    " tup = (2, 1, 3, 1,2)\n",
    "print(tup.index( 2 )) #returns index of first occurrence\n",
    " print(tup.count( 2 ))  #counts total occurrences \n",
    "print(tup.index( 1 )) #is 1\n",
    "print(tup.count( 1 )) #is 2"
   ]
  },
  {
   "cell_type": "code",
   "execution_count": 17,
   "id": "1e061a2d-69cc-4cf8-9c3d-8fca1fc05791",
   "metadata": {},
   "outputs": [
    {
     "name": "stdout",
     "output_type": "stream",
     "text": [
      "1\n",
      "0\n",
      "4\n",
      "2\n"
     ]
    }
   ],
   "source": [
    "#tup.index( el )  #returns index of first occurrence\n",
    "\n",
    "tuple = (4,5,7,8,6,3,1,8)\n",
    "\n",
    "print(tuple.index(5))\n",
    "print(tuple.index(4))\n",
    "print(tuple.index(6))\n",
    "print(tuple.index(7))"
   ]
  },
  {
   "cell_type": "code",
   "execution_count": 18,
   "id": "591e8db1-5352-45bf-bf03-471d7fc2a160",
   "metadata": {},
   "outputs": [
    {
     "name": "stdout",
     "output_type": "stream",
     "text": [
      "3\n",
      "2\n",
      "2\n",
      "3\n"
     ]
    }
   ],
   "source": [
    "#tup.count( el )  #counts total occurrences \n",
    "tuple = (1,3,5,3,7,5,1,9,6,3,7,1,9,0)\n",
    "\n",
    "print(tuple.count(3))\n",
    "print(tuple.count(7))\n",
    "print(tuple.count(9))\n",
    "print(tuple.count(1))"
   ]
  },
  {
   "cell_type": "markdown",
   "id": "c2a5ced1-0158-4b56-84bd-43a80e5370f8",
   "metadata": {},
   "source": [
    "## Let‘s Practice"
   ]
  },
  {
   "cell_type": "code",
   "execution_count": 28,
   "id": "50966e44-7bde-4ab5-8992-a5a9360c7e11",
   "metadata": {},
   "outputs": [
    {
     "name": "stdin",
     "output_type": "stream",
     "text": [
      "mov1 :  war\n",
      "mov2 :  tatanic\n",
      "mov3 :  avatar\n"
     ]
    },
    {
     "name": "stdout",
     "output_type": "stream",
     "text": [
      "<class 'list'>\n",
      "['war', 'tatanic', 'avatar']\n"
     ]
    }
   ],
   "source": [
    "# WAP to ask user to enter names of thier 3 favorite moveis & store them in a list\n",
    "mov1  =  (input(\"mov1 : \"))\n",
    "mov2  =  (input(\"mov2 : \"))\n",
    "mov3  =  (input(\"mov3 : \"))\n",
    "\n",
    "list = [mov1,mov2,mov3]\n",
    "print(type(list))\n",
    "print(list)"
   ]
  },
  {
   "cell_type": "markdown",
   "id": "eefa7991-d5e1-4e1d-a6b9-8773777f70ba",
   "metadata": {},
   "source": [
    "## Let‘s Practice"
   ]
  },
  {
   "cell_type": "code",
   "execution_count": null,
   "id": "a24b3276-39aa-4450-a051-5e0e5ed47048",
   "metadata": {},
   "outputs": [],
   "source": [
    " WAP to check if a list contains a palindrome of elements. (Hint: use copy( ) method)\n",
    " [1, 2, 3, 2, 1]             [1, “abc”, “abc”, 1]"
   ]
  },
  {
   "cell_type": "code",
   "execution_count": 36,
   "id": "ab6a3b3e-dfcf-4c36-86a6-01966594a7b3",
   "metadata": {},
   "outputs": [
    {
     "name": "stdout",
     "output_type": "stream",
     "text": [
      "EX1>Palindrome\n",
      "EX2>Not Palindrome\n",
      "EX3>Palindrome\n",
      "EX3>Not Palindrome\n"
     ]
    }
   ],
   "source": [
    "#Ex.1.........\n",
    "list1 = [1,2,3,2,1]\n",
    "\n",
    "list1_copy = list1.copy()\n",
    "list1_copy.reverse()\n",
    "\n",
    "if(list1_copy == list1):\n",
    "    print(\"EX1>Palindrome\")\n",
    "else:\n",
    "    print(\"EX1>Not Palindrome\")\n",
    "\n",
    "# EX.2.......\n",
    "list2 = [1,2,3,2,1,2]\n",
    "\n",
    "list2_copy = list2.copy()\n",
    "list2_copy.reverse()\n",
    "\n",
    "if(list2_copy == list2):\n",
    "    print(\"EX2>Palindrome\")\n",
    "else:\n",
    "    print(\"EX2>Not Palindrome\")\n",
    "\n",
    "# EX.3.......\n",
    "list3 = [\"m\", \"a\", \"a\", \"m\"]\n",
    "\n",
    "list3_copy = list3.copy()\n",
    "list3_copy.reverse()\n",
    "\n",
    "if(list3_copy == list3):\n",
    "    print(\"EX3>Palindrome\")\n",
    "else:\n",
    "    print(\"EX3>Not Palindrome\")\n",
    "\n",
    "# EX.4.......\n",
    "list4 = [\"m\", \"a\", \"a\", \"m\",\"n\"]\n",
    "\n",
    "list4_copy = list4.copy()\n",
    "list4_copy.reverse()\n",
    "\n",
    "if(list4_copy == list4):\n",
    "    print(\"EX3>Palindrome\")\n",
    "else:\n",
    "    print(\"EX3>Not Palindrome\")\n"
   ]
  },
  {
   "cell_type": "markdown",
   "id": "4835c7d2-fe94-4840-b577-8abaee8638f3",
   "metadata": {},
   "source": [
    "## Let‘s Practice"
   ]
  },
  {
   "cell_type": "code",
   "execution_count": 43,
   "id": "8a3bf85a-4f44-46e9-9435-c13b8991b48d",
   "metadata": {},
   "outputs": [
    {
     "name": "stdout",
     "output_type": "stream",
     "text": [
      "3\n",
      "2\n",
      "1\n",
      "1\n"
     ]
    }
   ],
   "source": [
    "#  WAP to count the number of students with the “A” grade in the following tuple.\n",
    "# [”C”, “D”, “A”, “A”, “B”, “B”, “A”]\n",
    "#  Store the above values in a list & sort them from “A” to “D”.\n",
    "\n",
    "tuple =  (\"C\", \"D\", \"A\", \"A\", \"B\", \"B\", \"A\")\n",
    "print(tuple.count(\"A\"))\n",
    "print(tuple.count(\"B\"))\n",
    "print(tuple.count(\"C\"))\n",
    "print(tuple.count(\"D\"))"
   ]
  },
  {
   "cell_type": "code",
   "execution_count": 48,
   "id": "b3642f4d-aadb-42bd-9777-887f29fba21e",
   "metadata": {},
   "outputs": [
    {
     "name": "stdout",
     "output_type": "stream",
     "text": [
      "['A', 'A', 'A', 'B', 'B', 'C', 'D']\n",
      "['D', 'C', 'B', 'B', 'A', 'A', 'A']\n"
     ]
    }
   ],
   "source": [
    "# 1. Store the above values in a list & sort them from “A” to “D”.\n",
    "grade =  [\"C\", \"D\", \"A\", \"A\", \"B\", \"B\", \"A\"]\n",
    "grade.sort()\n",
    "print(grade)\n",
    "\n",
    "\n",
    "# 2. Store the above values in a list & sort them from “D” to “A”.\n",
    "grade =  [\"C\", \"D\", \"A\", \"A\", \"B\", \"B\", \"A\"]\n",
    "grade.sort(reverse=True)\n",
    "print(grade)"
   ]
  },
  {
   "cell_type": "markdown",
   "id": "642477a6-21fa-4a29-a647-a4b582779db3",
   "metadata": {},
   "source": [
    "## Dictionary in Python\n",
    "#### Dictionaries are used to store data values in key:value pairs\n",
    "####  They are unordered, mutable(changeable) & don’t allow duplicate keys"
   ]
  },
  {
   "cell_type": "code",
   "execution_count": null,
   "id": "8ef9954b-f6be-4de4-ba1b-5649fc3d8a70",
   "metadata": {},
   "outputs": [],
   "source": [
    "dict = {                                   # \"key\" : value\n",
    "#    \"key\" : value\n",
    "    \n",
    "    \"name : \"shradha\",\n",
    "    \"cgpa\" : 9.6,\n",
    "    \"marks : [98,97,95],\n",
    "}\n",
    "\n",
    " dict[”name”], dict[”cgpa”], dict[”marks”]\n",
    " \n",
    " dict[”key”] = “value”   #to assign or add new"
   ]
  },
  {
   "cell_type": "code",
   "execution_count": 25,
   "id": "94fc22b5-9ed4-49c5-bba8-18244b407d35",
   "metadata": {},
   "outputs": [
    {
     "name": "stdout",
     "output_type": "stream",
     "text": [
      "{'key': 'value', 'name': 'isha prajapat', 'learning': 'coding', 'subject': ['python', 'C', 'java'], 'topics': ('dict', 'set'), 'age': 22, 'is_adult': True, 'marks': 94.4}\n",
      "<class 'dict'>\n",
      "isha prajapat\n",
      "coding\n",
      "22\n",
      "{12: 99, 12.04: 84}\n",
      "<class 'dict'>\n",
      "{'name': 'samar'}\n"
     ]
    }
   ],
   "source": [
    "# hama ne yaha info name ki 'Dictionary'  banai he jisame diffrent \n",
    "# diffrent \"key\" he jisame keys ki  \"value\" store he\n",
    "info = {\n",
    "     \"key\"      : \"value\",\n",
    "    \"name\"      : \"isha prajapat\",\n",
    "    \"learning\"  : \"coding\",\n",
    "    \"subject\"   : [\"python\",\"C\",\"java\"],\n",
    "    \"topics\"    : (\"dict\",\"set\"),\n",
    "    \"age\"       : 22,\n",
    "    \"is_adult\"  : True,\n",
    "    \"marks\"     : 94.4,\n",
    "    \n",
    "}\n",
    "\n",
    "\n",
    "#print # Dictionary -->info  Dictionary\n",
    "print(info)\n",
    "\n",
    "\n",
    "# Dictionary ke type ko bhi print kar sakate he aasa\n",
    "print(type(info))\n",
    "\n",
    "# Note---> \n",
    "#     \"key\"      : \"value\",\n",
    "#     \"name\"     : \"isha prajapat\",\n",
    "#    \"learning\"  : \"coding\",\n",
    "\n",
    "\n",
    "# Note---> yesa likha kar Dictionary me key ke name ko likha kar usa ki value ko \n",
    "# dairect hi print kiya sa sakata he  \n",
    "print(info[\"name\"])\n",
    "print(info[\"learning\"])\n",
    "print(info[\"age\"])\n"
   ]
  },
  {
   "cell_type": "code",
   "execution_count": 26,
   "id": "5243e731-c8c7-4017-8d5b-5663d0f30f4b",
   "metadata": {},
   "outputs": [
    {
     "name": "stdout",
     "output_type": "stream",
     "text": [
      "{12: 99, 12.04: 84}\n",
      "<class 'dict'>\n"
     ]
    }
   ],
   "source": [
    "#Note--> int or float type ka \"key\" rarely hi use ki jati he \n",
    "infor = {\n",
    "    12          : 99,\n",
    "    12.04       : 84,\n",
    "}\n",
    "print(infor)\n",
    "print(type(infor))\n"
   ]
  },
  {
   "cell_type": "code",
   "execution_count": 27,
   "id": "be1a421c-52dc-452f-8f81-b2d6abee120e",
   "metadata": {},
   "outputs": [
    {
     "name": "stdout",
     "output_type": "stream",
     "text": [
      "{'name': 'samar'}\n"
     ]
    }
   ],
   "source": [
    "#IMP Note---> Dictionary me key ke name same nahi ho sakate he\n",
    "# Not allowed same name for key in Dictionary same name it's not posible\n",
    "#Ex-->\n",
    "students = {\n",
    "    \"name\" : \"pratap\",\n",
    "    \"name\" : \"taj\",\n",
    "    \"name\" : \"samar\",\n",
    "}\n",
    "\n",
    "print(students)\n",
    "    "
   ]
  },
  {
   "cell_type": "code",
   "execution_count": 7,
   "id": "c58e3d53-f13b-4b90-8546-78ef53baff6c",
   "metadata": {},
   "outputs": [
    {
     "name": "stdout",
     "output_type": "stream",
     "text": [
      "{'key': 'value', 'name': '2.0', 'learning': 'coding', 'subject': 'c++', 'topics': ('dict', 'set'), 'age': 24, 'is_adult': True, 'marks': 94.4, 'surName': 'jain', 'gender': 'Mail'}\n"
     ]
    }
   ],
   "source": [
    "# hama ne yaha info name ki 'Dictionary'  banai he jisame diffrent \n",
    "# diffrent \"key\" he jisame keys ki  \"value\" store he\n",
    "info = {\n",
    "     \"key\"      : \"value\",\n",
    "    \"name\"      : \"isha prajapat\",\n",
    "    \"learning\"  : \"coding\",\n",
    "    \"subject\"   : [\"python\",\"C\",\"java\"],\n",
    "    \"topics\"    : (\"dict\",\"set\"),\n",
    "    \"age\"       : 22,\n",
    "    \"is_adult\"  : True,\n",
    "    \"marks\"     : 94.4,\n",
    "    \n",
    "}\n",
    "\n",
    "#NOTE---> Dictionary me key ma new value assign ki ja sakati he \n",
    "#Ex...\n",
    "info[\"name\"] = \"raj\" #overwrite #21 #2.0 kasi bhi value int ,float etc. le sakate he\n",
    "info[\"subject\"] = \"c++\"\n",
    "info[\"age\"] = 24\n",
    "\n",
    "#IMP NOTE--> Dictionary me new \"key\" : \"value\" bhi aasani sa add kar sakate he\n",
    "#Ex-->\n",
    "info[\"surName\"] = \"jain\"\n",
    "info[\"gender\"] = \"Mail\"\n",
    "\n",
    "#print # Dictionary -->info  Dictionary\n",
    "print(info)\n",
    "\n"
   ]
  },
  {
   "cell_type": "code",
   "execution_count": 12,
   "id": "799d5396-dba5-48af-813f-af92b999b547",
   "metadata": {},
   "outputs": [
    {
     "name": "stdout",
     "output_type": "stream",
     "text": [
      "{'name': 'priya', 'age': 22}\n"
     ]
    }
   ],
   "source": [
    "# empty Dictionary create-->\n",
    "\n",
    "empty_dict = {}\n",
    "empty_dict[\"name\"]  = \"priya\"\n",
    "empty_dict[\"age\"] = 22\n",
    "\n",
    "print(empty_dict)"
   ]
  },
  {
   "cell_type": "markdown",
   "id": "fc07039f-0231-4cfd-a747-f156e7b04d32",
   "metadata": {},
   "source": [
    "## Dictionary in Python\n",
    "#### Nested Dictionaries"
   ]
  },
  {
   "cell_type": "code",
   "execution_count": null,
   "id": "7a8dfdc7-2f5a-4e03-920a-22b9dfb2e9f5",
   "metadata": {},
   "outputs": [],
   "source": [
    "Student = {\n",
    "    \"name\" : \"Radha\",\n",
    "    \"score\" : {\n",
    "        \"chem\" : 98,\n",
    "        \"phy\"  : 97,\n",
    "        \"math\" : 95\n",
    "    }\n",
    "}\n",
    "\n",
    "student[”score”][”math”]"
   ]
  },
  {
   "cell_type": "code",
   "execution_count": 1,
   "id": "c3eba5af-a387-4a36-943e-3cd0c0febace",
   "metadata": {},
   "outputs": [
    {
     "name": "stdout",
     "output_type": "stream",
     "text": [
      "{'name': 'isan rajput', 'age': 25, 'sub': {'chem': 88, 'phy': 95, 'math': 90}}\n",
      "{'chem': 88, 'phy': 95, 'math': 90}\n",
      "88\n"
     ]
    }
   ],
   "source": [
    "# Nested Dictionaries\n",
    "\n",
    "student = {\n",
    "    \"name\" : \"isan rajput\",\n",
    "    \"age\"  : 25,\n",
    "    \"sub\"  : {\n",
    "        \"chem\" : 88,\n",
    "        \"phy\" : 95,\n",
    "        \"math\" : 90,\n",
    "     }\n",
    "}\n",
    "\n",
    "#nested Dictionarie\n",
    "print(student)\n",
    "print(student[\"sub\"])\n",
    "print(student[\"sub\"][\"chem\"])\n"
   ]
  },
  {
   "cell_type": "markdown",
   "id": "e8514209-5143-4c40-b40a-d85befde1ba5",
   "metadata": {},
   "source": [
    "##   Dictionary Methods\n",
    "#### myDict.keys( )  #returns all keys \n",
    "#### myDict.values( )  #returns all values \n",
    "#### myDict.items( )  #returns all (key, val) pairs as tuples\n",
    "#### myDict.get( “key““ )  #returns the key according to value \n",
    "#### myDict.update( newDict )  #inserts the specified items to the dictionary"
   ]
  },
  {
   "cell_type": "markdown",
   "id": "9ba1b011-4898-44c6-8260-2740de86e2c4",
   "metadata": {},
   "source": [
    "### myDict.keys( )  #returns all keys "
   ]
  },
  {
   "cell_type": "code",
   "execution_count": 5,
   "id": "8ccbfc47-6f95-4103-bca3-4823aab866c2",
   "metadata": {},
   "outputs": [
    {
     "name": "stdout",
     "output_type": "stream",
     "text": [
      "dict_keys(['name', 'age', 'sub'])\n",
      "3\n"
     ]
    }
   ],
   "source": [
    "# myDict.keys( )  #returns all keys \n",
    "\n",
    "# Note--> dictionary ki all keys aak satha print karane ke liye---> myDict.keys( ) \n",
    "student2 = {\n",
    "    \"name\" : \"isan rajput\",\n",
    "    \"age\"  : 25,\n",
    "    \"sub\"  : {\n",
    "        \"chem\" : 88,\n",
    "        \"phy\" : 95,\n",
    "        \"math\" : 90,\n",
    "     }\n",
    "}\n",
    "\n",
    "print(student2.keys())\n",
    "\n",
    "#dictionary key --> total numbers of lenght\n",
    "print(len(student2))\n",
    "\n",
    "\n"
   ]
  },
  {
   "cell_type": "code",
   "execution_count": 16,
   "id": "d956cd63-5153-4bb4-b7d2-81f589336618",
   "metadata": {},
   "outputs": [
    {
     "name": "stdout",
     "output_type": "stream",
     "text": [
      "dict_keys(['name', 'age', 'sub'])\n",
      "['name', 'age', 'sub']\n",
      "3\n",
      "<class 'list'>\n"
     ]
    }
   ],
   "source": [
    "student3 = {\n",
    "    \"name\" : \"isan rajput\",\n",
    "    \"age\"  : 25,\n",
    "    \"sub\"  : {\n",
    "        \"chem\" : 88,\n",
    "        \"phy\" : 95,\n",
    "        \"math\" : 90,\n",
    "     }\n",
    "}\n",
    "\n",
    "print(student.keys())\n",
    "\n",
    "# Type casting\n",
    "print(list(student3.keys()))\n",
    "\n",
    "# dict. keys list length\n",
    "print(len(list(student3.keys())))\n",
    "\n",
    "\n",
    "#type of list\n",
    "print(type(list(student3.keys())))\n",
    "\n",
    "\n"
   ]
  },
  {
   "cell_type": "markdown",
   "id": "fcec6c9f-3064-4c96-818a-98955374e6ac",
   "metadata": {},
   "source": [
    "### myDict.values( )  #returns all values"
   ]
  },
  {
   "cell_type": "code",
   "execution_count": 2,
   "id": "289d7693-2647-44df-8c50-20a5391c9370",
   "metadata": {},
   "outputs": [
    {
     "name": "stdout",
     "output_type": "stream",
     "text": [
      "['isan rajput', 25, {'chem': 88, 'phy': 95, 'math': 90}]\n"
     ]
    }
   ],
   "source": [
    "# myDict.values( )  #returns all values\n",
    "# list ke aandar Dictionary bana deta he ye\n",
    "stud = {\n",
    "    \"name\" : \"isan rajput\",\n",
    "    \"age\"  : 25,\n",
    "    \"sub\"  : {\n",
    "        \"chem\" : 88,\n",
    "        \"phy\" : 95,\n",
    "        \"math\" : 90,\n",
    "     }\n",
    "}\n",
    "\n",
    "print(list(stud.values()))"
   ]
  },
  {
   "cell_type": "markdown",
   "id": "2dc7fce7-6a4f-4de0-b523-62176bb8017c",
   "metadata": {},
   "source": [
    "### myDict.items( )  #returns all (key, val) pairs as tuples"
   ]
  },
  {
   "cell_type": "code",
   "execution_count": 3,
   "id": "08cfbeaf-aed9-4b46-a2fc-3a6c33f3e85e",
   "metadata": {},
   "outputs": [
    {
     "name": "stdout",
     "output_type": "stream",
     "text": [
      "[('name', 'isan rajput'), ('age', 25), ('sub', {'chem': 88, 'phy': 95, 'math': 90})]\n"
     ]
    }
   ],
   "source": [
    "# myDict.items( )  #returns all (key, val) pairs as tuples\n",
    "\n",
    "stud1 = {\n",
    "    \"name\" : \"isan rajput\",\n",
    "    \"age\"  : 25,\n",
    "    \"sub\"  : {\n",
    "        \"chem\" : 88,\n",
    "        \"phy\" : 95,\n",
    "        \"math\" : 90,\n",
    "     }\n",
    "}\n",
    "\n",
    "print(list(stud1.items()))"
   ]
  },
  {
   "cell_type": "markdown",
   "id": "ebe2d99f-c25a-47a6-9775-ec3fcb63a93b",
   "metadata": {},
   "source": [
    "### myDict.get( “key““ )  #returns the key according to value "
   ]
  },
  {
   "cell_type": "code",
   "execution_count": 18,
   "id": "5ec87ae0-8c51-415b-b44d-2e9d81e39df2",
   "metadata": {},
   "outputs": [
    {
     "name": "stdout",
     "output_type": "stream",
     "text": [
      "{'chem': 88, 'phy': 95, 'math': 90}\n",
      "isan rajput\n",
      "25\n",
      "25\n"
     ]
    }
   ],
   "source": [
    "#part (1)\n",
    "# myDict.get( “key““ )  #returns the key according to value \n",
    "\n",
    "stud2 = {\n",
    "    \"name\" : \"isan rajput\",\n",
    "    \"age\"  : 25,\n",
    "    \"sub\"  : {\n",
    "        \"chem\" : 88,\n",
    "        \"phy\" : 95,\n",
    "        \"math\" : 90,\n",
    "     }\n",
    "}\n",
    "print(stud2.get(\"sub\"))\n",
    "print(stud2.get(\"name\"))\n",
    "\n",
    "# IMP NOte--. dictionary ki key ko print kara ne ke bhi 2 diffrent tarike he but\n",
    "\n",
    "# 1 tarika\n",
    "print(stud2.get(\"age\"))\n",
    "\n",
    "# 2 tarika\n",
    "print(stud2[\"age\"])\n",
    "\n",
    "# but niche dakha "
   ]
  },
  {
   "cell_type": "code",
   "execution_count": 8,
   "id": "8e2abdc1-c82c-464b-b82c-95b932e7e73f",
   "metadata": {},
   "outputs": [
    {
     "name": "stdout",
     "output_type": "stream",
     "text": [
      "{'chem': 88, 'phy': 95, 'math': 90}\n",
      "isan rajput\n",
      "25\n",
      "None\n",
      "I am\n",
      "today\n",
      "learning\n",
      "python\n",
      "from\n",
      "Aapana college\n"
     ]
    }
   ],
   "source": [
    "#part (2)\n",
    "# myDict.get( “key““ )                                                          a1#returns the key according to value \n",
    "# 1 tarike ma arrer aane par aage jo print\n",
    "# hone wala he usa ma koi problem nahi aati he so it's best method\n",
    "stud3 = {\n",
    "    \"name\" : \"isan rajput\",\n",
    "    \"age\"  : 25,\n",
    "    \"sub\"  : {\n",
    "        \"chem\" : 88,\n",
    "        \"phy\" : 95,\n",
    "        \"math\" : 90,\n",
    "     }\n",
    "}\n",
    "print(stud3.get(\"sub\"))\n",
    "print(stud3.get(\"name\"))\n",
    "print(stud3.get(\"age\"))\n",
    "print(stud3.get(\"age1\"))\n",
    "print(\"I am\")\n",
    "print(\"today\")\n",
    "print(\"learning\")\n",
    "print(\"python\")\n",
    "print(\"from\")\n",
    "print(\"Aapana college\")"
   ]
  },
  {
   "cell_type": "code",
   "execution_count": 16,
   "id": "3d36b11a-fc6b-490a-9315-f1ebb018d937",
   "metadata": {},
   "outputs": [
    {
     "name": "stdout",
     "output_type": "stream",
     "text": [
      "isan rajput\n",
      "I am\n",
      "today\n",
      "learning\n",
      "python\n",
      "from\n",
      "Aapana college\n"
     ]
    }
   ],
   "source": [
    "#part (3)\n",
    "#print(Dict[\"key\"]) \n",
    "\n",
    "# 2 tarike ma arrer aane par aage jo \n",
    "# print hone wala he usa ma  problem  aati he so it's not good  method\n",
    "stud4 = {\n",
    "    \"name\" : \"isan rajput\",\n",
    "    \"age\"  : 25,\n",
    "    \"sub\"  : {\n",
    "        \"chem\" : 88,\n",
    "        \"phy\" : 95,\n",
    "        \"math\" : 90,\n",
    "     }\n",
    "}\n",
    "\n",
    "print(stud4[\"name\"])\n",
    "#print(stud4[\"name1\"])\n",
    "print(\"I am\")\n",
    "print(\"today\")\n",
    "print(\"learning\")\n",
    "print(\"python\")\n",
    "print(\"from\")\n",
    "print(\"Aapana college\")"
   ]
  },
  {
   "cell_type": "markdown",
   "id": "24ab9a0e-c3f3-44c3-abe9-e93006339699",
   "metadata": {},
   "source": [
    "### myDict.update( newDict )  #inserts the specified items to the dictionary"
   ]
  },
  {
   "cell_type": "code",
   "execution_count": 25,
   "id": "7d7af439-4379-4d31-8238-036485715e4a",
   "metadata": {},
   "outputs": [
    {
     "name": "stdout",
     "output_type": "stream",
     "text": [
      "{'name': 'krishana prajapat', 'age': 22, 'sub': {'chem': 88, 'phy': 95, 'math': 90}, 'city': 'Delhi', 'country': 'india'}\n"
     ]
    }
   ],
   "source": [
    "# myDict.update( newDict )  #inserts the specified items to the dictionary\n",
    "stu = {\n",
    "    \"name\" : \"isan rajput\",\n",
    "    \"age\"  : 25,\n",
    "    \"sub\"  : {\n",
    "        \"chem\" : 88,\n",
    "        \"phy\" : 95,\n",
    "        \"math\" : 90,\n",
    "     }\n",
    "}\n",
    "\n",
    "# new Dictionary banakar use purani Dictionary ma \n",
    "# update kar ka add kar sakate he \n",
    "#Ex.--> new Dictionary\n",
    "new_Dict = {\n",
    "    \"city\"    : \"Delhi\",\n",
    "    \"country\" : \"india\",\n",
    "# purani key ki value bhi chnge(update) kar sakate he \n",
    "    \"name\"    :  \"krishana prajapat\",\n",
    "     \"age\"     : 22\n",
    "}\n",
    "\n",
    "# purani Dictionary\n",
    "stu.update(new_Dict )\n",
    "print(stu)\n",
    "\n",
    "# purani key ki value bhi chnge(update) kar sakate he \n"
   ]
  },
  {
   "cell_type": "markdown",
   "id": "5e2475fb-f4b2-4287-9690-7060399b6ed3",
   "metadata": {},
   "source": [
    "## Set i mpython \n",
    "#### Set in the collection o the unordered items.\n",
    "#### Each element in the must be uniqe & immutable "
   ]
  },
  {
   "cell_type": "code",
   "execution_count": null,
   "id": "a3581c5a-c216-473d-9fe0-fb186181fa4b",
   "metadata": {},
   "outputs": [],
   "source": [
    "nums = {1,2,3,4}\n",
    "\n",
    "set2 = {1,2,2,2}\n",
    "\n",
    "# repeated elements stored only once , so it resolved to {1,2}\n",
    "\n",
    "null_set = set()   # empty set syntax"
   ]
  },
  {
   "cell_type": "code",
   "execution_count": null,
   "id": "ee17ecc2-2e7d-4e12-b2ed-6f5fcaeccdf5",
   "metadata": {},
   "outputs": [],
   "source": [
    "## Loops inpython\n",
    "#### Loops are used to repet instruction.\n",
    "\n",
    "while Loops\n",
    "\n",
    "\n",
    "    while codition:\n",
    "        #some Work"
   ]
  },
  {
   "cell_type": "code",
   "execution_count": null,
   "id": "aba19ea5-da82-4b2b-9779-382025b6c987",
   "metadata": {},
   "outputs": [],
   "source": [
    "i = 10\n",
    "while i < 1:\n",
    "    print(\"RAM\",i)\n",
    "    i = i-1"
   ]
  },
  {
   "cell_type": "code",
   "execution_count": null,
   "id": "af064e9f-f92d-47c7-b7a5-f0bec4afa5c8",
   "metadata": {},
   "outputs": [],
   "source": []
  },
  {
   "cell_type": "code",
   "execution_count": null,
   "id": "a3deda76-b4d1-49ec-8314-dad582ca9939",
   "metadata": {},
   "outputs": [],
   "source": []
  },
  {
   "cell_type": "code",
   "execution_count": null,
   "id": "ac80b1ba-7b58-4529-8cf4-aac6f7a0695d",
   "metadata": {},
   "outputs": [],
   "source": []
  },
  {
   "cell_type": "code",
   "execution_count": null,
   "id": "de6d34ce-c573-43fd-917c-b96daedf5d6e",
   "metadata": {},
   "outputs": [],
   "source": []
  },
  {
   "cell_type": "code",
   "execution_count": null,
   "id": "d52f67d7-7856-4da2-8f81-35a1fabf4e06",
   "metadata": {},
   "outputs": [],
   "source": []
  },
  {
   "cell_type": "code",
   "execution_count": null,
   "id": "16d2757f-887c-4d64-ba40-77673b6d0ecd",
   "metadata": {},
   "outputs": [],
   "source": []
  },
  {
   "cell_type": "code",
   "execution_count": null,
   "id": "96b54cf6-5a80-43c3-a91b-71995caf3168",
   "metadata": {},
   "outputs": [],
   "source": []
  },
  {
   "cell_type": "code",
   "execution_count": null,
   "id": "f7bb19ea-a9e2-4ecd-910e-57b18f04b9cc",
   "metadata": {},
   "outputs": [],
   "source": []
  },
  {
   "cell_type": "code",
   "execution_count": null,
   "id": "b292ae03-66d2-4bbb-a019-fe2d82cf0935",
   "metadata": {},
   "outputs": [],
   "source": []
  },
  {
   "cell_type": "code",
   "execution_count": null,
   "id": "6f7946a2-ab7f-4b6a-a7e6-8204676f8c1c",
   "metadata": {},
   "outputs": [],
   "source": []
  },
  {
   "cell_type": "code",
   "execution_count": null,
   "id": "3c19bbee-240c-44f3-bf41-de3d2535a1cd",
   "metadata": {},
   "outputs": [],
   "source": []
  },
  {
   "cell_type": "code",
   "execution_count": null,
   "id": "4cf4cc3d-9ba5-4fbc-a1a1-35dac305f3e9",
   "metadata": {},
   "outputs": [],
   "source": []
  },
  {
   "cell_type": "code",
   "execution_count": null,
   "id": "e260632f-52f1-47f9-82e3-587d13e86da0",
   "metadata": {},
   "outputs": [],
   "source": []
  },
  {
   "cell_type": "code",
   "execution_count": null,
   "id": "f4000b53-f583-4964-916f-663d8a533996",
   "metadata": {},
   "outputs": [],
   "source": []
  },
  {
   "cell_type": "code",
   "execution_count": null,
   "id": "1ee60ee0-c035-45b3-9d43-ae83315409d1",
   "metadata": {},
   "outputs": [],
   "source": []
  },
  {
   "cell_type": "code",
   "execution_count": null,
   "id": "b65b8c00-2ac1-4cb6-ba6e-4f620c04cc33",
   "metadata": {},
   "outputs": [],
   "source": []
  },
  {
   "cell_type": "code",
   "execution_count": null,
   "id": "b5cf9921-550d-49f1-b88d-65cc57b9e0f7",
   "metadata": {},
   "outputs": [],
   "source": []
  },
  {
   "cell_type": "code",
   "execution_count": null,
   "id": "3aa44084-63d3-4584-bcf5-6decea9361cf",
   "metadata": {},
   "outputs": [],
   "source": []
  },
  {
   "cell_type": "code",
   "execution_count": null,
   "id": "7daabc21-6faa-40a4-8592-20b7e266f04f",
   "metadata": {},
   "outputs": [],
   "source": []
  },
  {
   "cell_type": "code",
   "execution_count": null,
   "id": "efe737c8-5144-4135-a9eb-c02294702ed9",
   "metadata": {},
   "outputs": [],
   "source": []
  },
  {
   "cell_type": "code",
   "execution_count": null,
   "id": "4de49e53-6ab6-45f5-90e5-a923b146dd7d",
   "metadata": {},
   "outputs": [],
   "source": []
  },
  {
   "cell_type": "code",
   "execution_count": null,
   "id": "6ae22192-ebb9-4abc-ad7f-1d93b2130ec2",
   "metadata": {},
   "outputs": [],
   "source": []
  },
  {
   "cell_type": "code",
   "execution_count": null,
   "id": "bac15248-0daa-4972-901d-b43f42f16168",
   "metadata": {},
   "outputs": [],
   "source": []
  },
  {
   "cell_type": "code",
   "execution_count": null,
   "id": "d0978715-de3a-40f0-ab8a-b6d1a06e22df",
   "metadata": {},
   "outputs": [],
   "source": []
  },
  {
   "cell_type": "code",
   "execution_count": null,
   "id": "3ed42224-f020-4b5b-ba5b-80ef3dfd2950",
   "metadata": {},
   "outputs": [],
   "source": []
  },
  {
   "cell_type": "code",
   "execution_count": null,
   "id": "1c784ae4-f1c7-44d0-b0c2-16aaa14b3173",
   "metadata": {},
   "outputs": [],
   "source": []
  },
  {
   "cell_type": "code",
   "execution_count": null,
   "id": "48aece3d-e158-4772-995d-6ea82078f14f",
   "metadata": {},
   "outputs": [],
   "source": []
  },
  {
   "cell_type": "code",
   "execution_count": null,
   "id": "8287e04c-c3c6-439d-95b8-64596638ea5d",
   "metadata": {},
   "outputs": [],
   "source": []
  },
  {
   "cell_type": "code",
   "execution_count": null,
   "id": "e922afbf-c269-43ac-9a06-3213d9477376",
   "metadata": {},
   "outputs": [],
   "source": []
  },
  {
   "cell_type": "code",
   "execution_count": null,
   "id": "f98b69e2-2515-49d7-8da8-8448d5d7191f",
   "metadata": {},
   "outputs": [],
   "source": []
  },
  {
   "cell_type": "code",
   "execution_count": null,
   "id": "757dad15-eb4e-414c-8a9f-dc1f9c1af439",
   "metadata": {},
   "outputs": [],
   "source": []
  },
  {
   "cell_type": "code",
   "execution_count": null,
   "id": "d90d3c39-3192-4d41-bb17-2114ec1124a8",
   "metadata": {},
   "outputs": [],
   "source": []
  },
  {
   "cell_type": "code",
   "execution_count": null,
   "id": "171ae922-bd5f-45c3-9aff-a81669865de6",
   "metadata": {},
   "outputs": [],
   "source": []
  },
  {
   "cell_type": "code",
   "execution_count": null,
   "id": "1121d2b3-7093-4f97-8180-4c32d238758e",
   "metadata": {},
   "outputs": [],
   "source": []
  },
  {
   "cell_type": "code",
   "execution_count": null,
   "id": "83b9e7d4-a5a6-4281-b441-ceb7239b2fa9",
   "metadata": {},
   "outputs": [],
   "source": []
  },
  {
   "cell_type": "code",
   "execution_count": null,
   "id": "58cf909d-4daa-4a97-907d-433489db4bc8",
   "metadata": {},
   "outputs": [],
   "source": []
  },
  {
   "cell_type": "code",
   "execution_count": null,
   "id": "4df40b2f-0966-452c-a374-3f2cad8b58fb",
   "metadata": {},
   "outputs": [],
   "source": []
  },
  {
   "cell_type": "code",
   "execution_count": null,
   "id": "0554feb0-1c8d-4556-b79c-75ff8f9cd272",
   "metadata": {},
   "outputs": [],
   "source": []
  },
  {
   "cell_type": "code",
   "execution_count": null,
   "id": "d6d9ba00-01ae-4724-b807-fef995a8ed2b",
   "metadata": {},
   "outputs": [],
   "source": []
  },
  {
   "cell_type": "code",
   "execution_count": null,
   "id": "c7b0ea6b-2173-4df9-a41c-a7dd1c97fb95",
   "metadata": {},
   "outputs": [],
   "source": []
  },
  {
   "cell_type": "code",
   "execution_count": null,
   "id": "f9bde1c1-fb54-445b-8015-48abd47a73cd",
   "metadata": {},
   "outputs": [],
   "source": []
  },
  {
   "cell_type": "code",
   "execution_count": null,
   "id": "56deb285-e149-472e-a1c2-fbfa14b19f9d",
   "metadata": {},
   "outputs": [],
   "source": []
  },
  {
   "cell_type": "code",
   "execution_count": null,
   "id": "a9d55e3e-22fa-4597-84b3-5183606674a9",
   "metadata": {},
   "outputs": [],
   "source": []
  },
  {
   "cell_type": "code",
   "execution_count": null,
   "id": "a036c8ba-10eb-4729-8d9c-03392c321075",
   "metadata": {},
   "outputs": [],
   "source": []
  },
  {
   "cell_type": "code",
   "execution_count": null,
   "id": "c5d3ef11-ad4f-49d1-bda8-cd7f1cb56495",
   "metadata": {},
   "outputs": [],
   "source": []
  },
  {
   "cell_type": "code",
   "execution_count": null,
   "id": "5472233e-9856-461d-a0f0-c57683c49d7c",
   "metadata": {},
   "outputs": [],
   "source": []
  },
  {
   "cell_type": "code",
   "execution_count": null,
   "id": "e5c79a63-50f5-4d86-8a3f-d66d0d06e5f9",
   "metadata": {},
   "outputs": [],
   "source": []
  },
  {
   "cell_type": "code",
   "execution_count": null,
   "id": "d7cf87f7-ae11-4795-bd3b-33548a3eaa4c",
   "metadata": {},
   "outputs": [],
   "source": []
  },
  {
   "cell_type": "code",
   "execution_count": null,
   "id": "8d9d09e8-7412-4cb2-bc03-1a7075a5b1e3",
   "metadata": {},
   "outputs": [],
   "source": []
  },
  {
   "cell_type": "code",
   "execution_count": null,
   "id": "f37b9d1d-6cec-4362-b8ca-63f9e635a236",
   "metadata": {},
   "outputs": [],
   "source": []
  },
  {
   "cell_type": "code",
   "execution_count": null,
   "id": "f320c074-8cc9-4b1b-baf8-692354a346b3",
   "metadata": {},
   "outputs": [],
   "source": []
  },
  {
   "cell_type": "code",
   "execution_count": null,
   "id": "4ab3893c-e8e5-4fc2-bd90-52cf373ab463",
   "metadata": {},
   "outputs": [],
   "source": []
  }
 ],
 "metadata": {
  "kernelspec": {
   "display_name": "Python 3 (ipykernel)",
   "language": "python",
   "name": "python3"
  },
  "language_info": {
   "codemirror_mode": {
    "name": "ipython",
    "version": 3
   },
   "file_extension": ".py",
   "mimetype": "text/x-python",
   "name": "python",
   "nbconvert_exporter": "python",
   "pygments_lexer": "ipython3",
   "version": "3.11.7"
  }
 },
 "nbformat": 4,
 "nbformat_minor": 5
}
